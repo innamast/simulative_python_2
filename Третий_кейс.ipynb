{
  "nbformat": 4,
  "nbformat_minor": 0,
  "metadata": {
    "colab": {
      "provenance": [],
      "include_colab_link": true
    },
    "kernelspec": {
      "name": "python3",
      "display_name": "Python 3"
    },
    "language_info": {
      "name": "python"
    }
  },
  "cells": [
    {
      "cell_type": "markdown",
      "metadata": {
        "id": "view-in-github",
        "colab_type": "text"
      },
      "source": [
        "<a href=\"https://colab.research.google.com/github/innamast/simulative_python_2/blob/main/%D0%A2%D1%80%D0%B5%D1%82%D0%B8%D0%B9_%D0%BA%D0%B5%D0%B9%D1%81.ipynb\" target=\"_parent\"><img src=\"https://colab.research.google.com/assets/colab-badge.svg\" alt=\"Open In Colab\"/></a>"
      ]
    },
    {
      "cell_type": "markdown",
      "source": [
        "## 3 кейс\n",
        "\n",
        "**В этом кейсе вы будете рассчитывать:**\n",
        "* retention\n",
        "* rolling retention\n",
        "* lifetime\n",
        "* churn rate\n",
        "* mau\n",
        "* wau\n",
        "* dau"
      ],
      "metadata": {
        "id": "T_xBU6WvyPhY"
      }
    },
    {
      "cell_type": "markdown",
      "source": [
        "**Важно**\n",
        "\n",
        "Перед началом решения задачи выполните следующую ячейку - в ней скачиваются нужные файлы"
      ],
      "metadata": {
        "id": "U2D5zGSdzc92"
      }
    },
    {
      "cell_type": "code",
      "execution_count": 1,
      "metadata": {
        "id": "3eJFMuMpyCp-",
        "outputId": "a58b044c-ed79-4932-e518-eedfe412d596",
        "colab": {
          "base_uri": "https://localhost:8080/"
        }
      },
      "outputs": [
        {
          "output_type": "stream",
          "name": "stdout",
          "text": [
            "--2025-07-22 18:30:21--  https://gist.github.com/Vs8th/739269a03f2f4a7396d04d6739da3771/raw/registrations.csv\n",
            "Resolving gist.github.com (gist.github.com)... 140.82.121.3\n",
            "Connecting to gist.github.com (gist.github.com)|140.82.121.3|:443... connected.\n",
            "HTTP request sent, awaiting response... 301 Moved Permanently\n",
            "Location: https://gist.githubusercontent.com/Vs8th/739269a03f2f4a7396d04d6739da3771/raw/registrations.csv [following]\n",
            "--2025-07-22 18:30:21--  https://gist.githubusercontent.com/Vs8th/739269a03f2f4a7396d04d6739da3771/raw/registrations.csv\n",
            "Resolving gist.githubusercontent.com (gist.githubusercontent.com)... 185.199.108.133, 185.199.109.133, 185.199.110.133, ...\n",
            "Connecting to gist.githubusercontent.com (gist.githubusercontent.com)|185.199.108.133|:443... connected.\n",
            "HTTP request sent, awaiting response... 200 OK\n",
            "Length: 14918 (15K) [text/plain]\n",
            "Saving to: ‘registrations.csv.6’\n",
            "\n",
            "\rregistrations.csv.6   0%[                    ]       0  --.-KB/s               \rregistrations.csv.6 100%[===================>]  14.57K  --.-KB/s    in 0s      \n",
            "\n",
            "2025-07-22 18:30:21 (84.7 MB/s) - ‘registrations.csv.6’ saved [14918/14918]\n",
            "\n",
            "--2025-07-22 18:30:21--  https://gist.github.com/Vs8th/aacb80595d1d6aaa2e31eb735f8bc644/raw/entries.csv\n",
            "Resolving gist.github.com (gist.github.com)... 140.82.121.3\n",
            "Connecting to gist.github.com (gist.github.com)|140.82.121.3|:443... connected.\n",
            "HTTP request sent, awaiting response... 301 Moved Permanently\n",
            "Location: https://gist.githubusercontent.com/Vs8th/aacb80595d1d6aaa2e31eb735f8bc644/raw/entries.csv [following]\n",
            "--2025-07-22 18:30:21--  https://gist.githubusercontent.com/Vs8th/aacb80595d1d6aaa2e31eb735f8bc644/raw/entries.csv\n",
            "Resolving gist.githubusercontent.com (gist.githubusercontent.com)... 185.199.108.133, 185.199.109.133, 185.199.110.133, ...\n",
            "Connecting to gist.githubusercontent.com (gist.githubusercontent.com)|185.199.108.133|:443... connected.\n",
            "HTTP request sent, awaiting response... 200 OK\n",
            "Length: 308588 (301K) [text/plain]\n",
            "Saving to: ‘entries.csv.6’\n",
            "\n",
            "entries.csv.6       100%[===================>] 301.36K  --.-KB/s    in 0.02s   \n",
            "\n",
            "2025-07-22 18:30:21 (15.5 MB/s) - ‘entries.csv.6’ saved [308588/308588]\n",
            "\n",
            "--2025-07-22 18:30:22--  https://gist.github.com/Vs8th/0e827e9a608117345dd6585ab81e8c86/raw/metrics.txt\n",
            "Resolving gist.github.com (gist.github.com)... 140.82.121.3\n",
            "Connecting to gist.github.com (gist.github.com)|140.82.121.3|:443... connected.\n",
            "HTTP request sent, awaiting response... 301 Moved Permanently\n",
            "Location: https://gist.githubusercontent.com/Vs8th/0e827e9a608117345dd6585ab81e8c86/raw/metrics.txt [following]\n",
            "--2025-07-22 18:30:22--  https://gist.githubusercontent.com/Vs8th/0e827e9a608117345dd6585ab81e8c86/raw/metrics.txt\n",
            "Resolving gist.githubusercontent.com (gist.githubusercontent.com)... 185.199.108.133, 185.199.109.133, 185.199.110.133, ...\n",
            "Connecting to gist.githubusercontent.com (gist.githubusercontent.com)|185.199.108.133|:443... connected.\n",
            "HTTP request sent, awaiting response... 200 OK\n",
            "Length: 67 [text/plain]\n",
            "Saving to: ‘metrics.txt.6’\n",
            "\n",
            "metrics.txt.6       100%[===================>]      67  --.-KB/s    in 0s      \n",
            "\n",
            "2025-07-22 18:30:22 (2.70 MB/s) - ‘metrics.txt.6’ saved [67/67]\n",
            "\n"
          ]
        }
      ],
      "source": [
        "!wget https://gist.github.com/Vs8th/739269a03f2f4a7396d04d6739da3771/raw/registrations.csv\n",
        "\n",
        "!wget https://gist.github.com/Vs8th/aacb80595d1d6aaa2e31eb735f8bc644/raw/entries.csv\n",
        "\n",
        "!wget https://gist.github.com/Vs8th/0e827e9a608117345dd6585ab81e8c86/raw/metrics.txt"
      ]
    },
    {
      "cell_type": "markdown",
      "source": [
        "Файлами для работы являются `registrations.csv` и `entries.csv`. В них хранятся данные о регистрациях пользователей и входа на платформу соответственно."
      ],
      "metadata": {
        "id": "vnMFicli7Fa7"
      }
    },
    {
      "cell_type": "markdown",
      "source": [
        "### **Посчитайте Retention 15 дня (в процентах) для пользователей, зарегистрированных в январе**\n",
        "\n",
        "Cохраните результат в переменную `retention_15_day`\n",
        "\n",
        "**Примечание:** результат округлите до 5 знаков после запятой"
      ],
      "metadata": {
        "id": "s2g2hxfMzqLo"
      }
    },
    {
      "cell_type": "code",
      "source": [
        "# Ваше решение\n",
        "import csv\n",
        "from datetime import datetime\n",
        "\n",
        "with open('registrations.csv', 'r') as reg, open('entries.csv') as ent:\n",
        "  registrations = list(csv.reader(reg, delimiter=';'))\n",
        "  entries = list(csv.reader(ent, delimiter=';'))\n",
        "  # Убираем строку заголовков\n",
        "  registrations.pop(0)\n",
        "  entries.pop(0)\n",
        "\n",
        "# Добавляем кол-во дней входа пользователей с момента регистрации\n",
        "user_days_from_reg = []\n",
        "for user_ent, date_ent in entries:\n",
        "  for user_reg, date_reg in registrations:\n",
        "    if user_ent == user_reg:\n",
        "      diff = (datetime.strptime(date_ent, '%Y-%m-%d') - \\\n",
        "              datetime.strptime(date_reg, '%Y-%m-%d')).days\n",
        "      if diff != 0:\n",
        "        user_days_from_reg.append([user_ent, diff])\n"
      ],
      "metadata": {
        "id": "u5l9mm-vzpJ8"
      },
      "execution_count": 2,
      "outputs": []
    },
    {
      "cell_type": "code",
      "source": [
        "jan_users = [user for user in registrations if '2021-01-01' <= user[1] <= '2021-01-31']\n",
        "\n",
        "# Пользователи, зашедшие на 15-й день\n",
        "jan_users_15 = []\n",
        "for user_jan in jan_users:\n",
        "  for user in user_days_from_reg:\n",
        "    if user[1] == 15 and user[0] == user_jan[0]:\n",
        "      jan_users_15.append(user[0])\n",
        "\n",
        "jan_users_15_unique = set(item for item in jan_users_15)\n",
        "\n",
        "retention_15_day = round(100.0 * len(jan_users_15_unique)/len(jan_users), 5)\n",
        "retention_15_day"
      ],
      "metadata": {
        "id": "7uN8Oua5-vDW",
        "outputId": "e0780193-d81a-4a3c-8bf0-d8e4d246f915",
        "colab": {
          "base_uri": "https://localhost:8080/"
        }
      },
      "execution_count": 3,
      "outputs": [
        {
          "output_type": "execute_result",
          "data": {
            "text/plain": [
              "54.65116"
            ]
          },
          "metadata": {},
          "execution_count": 3
        }
      ]
    },
    {
      "cell_type": "code",
      "source": [
        "#@title ✏️ Проверка: чтобы проверить свое решение запустите код в этой ячейке\n",
        "# Открываем файл с правильными ответами\n",
        "with open('metrics.txt', 'r') as f:\n",
        "    answers = f.read().split('\\n')\n",
        "\n",
        "correct_answer = float(answers[0])\n",
        "\n",
        "try:\n",
        "    assert retention_15_day == correct_answer\n",
        "except AssertionError:\n",
        "    print('Ответы не совпадают')\n",
        "else:\n",
        "    print('Поздравляем, Вы справились!')"
      ],
      "metadata": {
        "id": "YGydKAis0Ae9",
        "outputId": "b210b03a-d197-4c0f-a371-3da037c72da7",
        "colab": {
          "base_uri": "https://localhost:8080/"
        }
      },
      "execution_count": 4,
      "outputs": [
        {
          "output_type": "stream",
          "name": "stdout",
          "text": [
            "Поздравляем, Вы справились!\n"
          ]
        }
      ]
    },
    {
      "cell_type": "markdown",
      "source": [
        "### **Посчитайте Rolling-retention 30 дня (в процентах) для пользователей из той же когорты**\n",
        "\n",
        "Сохраните результат в переменную `rolling_retention`\n",
        "\n",
        "**Примечание:** результат округлите до 5 знаков после запятой"
      ],
      "metadata": {
        "id": "TbkdEVLI0Cor"
      }
    },
    {
      "cell_type": "code",
      "source": [
        "# Ваше решение\n",
        "# Пользователи, зашедшие на 30-й день и позже\n",
        "jan_users_30 = []\n",
        "for user_jan in jan_users:\n",
        "  for user in user_days_from_reg:\n",
        "    if user[1] >= 30 and user[0] == user_jan[0]:\n",
        "      jan_users_30.append(user[0])\n",
        "\n",
        "# Отбираем уникальных пользователей\n",
        "jan_users_30_unique = set(item for item in jan_users_30)\n",
        "\n",
        "rolling_retention = round(100.0 * len(jan_users_30_unique)/len(jan_users), 5)\n",
        "rolling_retention"
      ],
      "metadata": {
        "id": "keCBmUDJ0Hho",
        "outputId": "d7854377-ac3f-4f9d-ef32-d4f71c0cea2f",
        "colab": {
          "base_uri": "https://localhost:8080/"
        }
      },
      "execution_count": 5,
      "outputs": [
        {
          "output_type": "execute_result",
          "data": {
            "text/plain": [
              "29.06977"
            ]
          },
          "metadata": {},
          "execution_count": 5
        }
      ]
    },
    {
      "cell_type": "code",
      "source": [
        "#@title ✏️ Проверка: чтобы проверить свое решение запустите код в этой ячейке\n",
        "correct_answer = float(answers[1])\n",
        "\n",
        "try:\n",
        "    assert rolling_retention == correct_answer\n",
        "except AssertionError:\n",
        "    print('Ответы не совпадают')\n",
        "else:\n",
        "    print('Поздравляем, Вы справились!')"
      ],
      "metadata": {
        "id": "fTwUwQZ40JCl",
        "outputId": "8c0cdde4-a7ee-48cd-d965-ab5cc5c13964",
        "colab": {
          "base_uri": "https://localhost:8080/"
        }
      },
      "execution_count": 6,
      "outputs": [
        {
          "output_type": "stream",
          "name": "stdout",
          "text": [
            "Поздравляем, Вы справились!\n"
          ]
        }
      ]
    },
    {
      "cell_type": "markdown",
      "source": [
        "### **Посчитайте Lifetime по всем пользователям, посчитанный как интеграл от n-day retention**\n",
        "\n",
        "Сохраните результат в переменную `lifetime`\n",
        "\n",
        "**Примечание:** результат округлите до 5 знаков после запятой"
      ],
      "metadata": {
        "id": "wxkhEVmF0PAo"
      }
    },
    {
      "cell_type": "code",
      "source": [
        "# Ваше решение\n",
        "def n_day(entries, registrations, n):\n",
        "  users_n = []\n",
        "  for user_ent, date_ent in entries:\n",
        "    for user_reg, date_reg in registrations:\n",
        "      if user_ent == user_reg and \\\n",
        "        (datetime.strptime(date_ent, '%Y-%m-%d') - \\\n",
        "        datetime.strptime(date_reg, '%Y-%m-%d')).days == n:\n",
        "        users_n.append([user_ent, date_reg])\n",
        "  # Отбираем уникальных пользователей\n",
        "  users_unique = set(item[0] for item in users_n)\n",
        "  # Отбираем уникальные регистрации\n",
        "  reg_unique = set(item[0] for item in registrations)\n",
        "\n",
        "  return round(len(users_unique)/len(reg_unique), 5)\n",
        "\n",
        "lifetime = 0\n",
        "for i in range(31):\n",
        "  lifetime += n_day(entries,registrations, i)\n",
        "lifetime = round(lifetime, 5)\n",
        "lifetime"
      ],
      "metadata": {
        "id": "KS17l5Ux0UD3",
        "outputId": "680e3f52-f847-4e4e-80f9-63af79db2fe6",
        "colab": {
          "base_uri": "https://localhost:8080/"
        }
      },
      "execution_count": 7,
      "outputs": [
        {
          "output_type": "execute_result",
          "data": {
            "text/plain": [
              "14.804"
            ]
          },
          "metadata": {},
          "execution_count": 7
        }
      ]
    },
    {
      "cell_type": "code",
      "source": [
        "#@title ✏️ Проверка: чтобы проверить свое решение запустите код в этой ячейке\n",
        "correct_answer = float(answers[2])\n",
        "\n",
        "try:\n",
        "    assert lifetime == correct_answer\n",
        "except AssertionError:\n",
        "    print('Ответы не совпадают')\n",
        "else:\n",
        "    print('Поздравляем, Вы справились!')"
      ],
      "metadata": {
        "id": "k7s0V8hF0Vmx",
        "outputId": "54c1372f-dd3d-4f93-9b91-3f2eb4f6e993",
        "colab": {
          "base_uri": "https://localhost:8080/"
        }
      },
      "execution_count": 8,
      "outputs": [
        {
          "output_type": "stream",
          "name": "stdout",
          "text": [
            "Поздравляем, Вы справились!\n"
          ]
        }
      ]
    },
    {
      "cell_type": "markdown",
      "source": [
        "### **Посчитайте Churn rate 29 дня (в долях), посчитанный по всем пользователям**\n",
        "\n",
        "Сохраните результат в переменную `churn_29`.  \n",
        "Если будете считать CR от Retention, ведите расчет от Rolling Retention, таким образом, мы получим всех, кто не заходил в 29 день и после. Ведя расчет от обычного Retention, наоборот - получим только CR в 29 день.\n"
      ],
      "metadata": {
        "id": "OrwoZ-wR0jJq"
      }
    },
    {
      "cell_type": "code",
      "source": [
        "# Ваше решение\n",
        "users_29 = []\n",
        "for user in user_days_from_reg:\n",
        "  if user[1] >= 29:\n",
        "    users_29.append(user[0])\n",
        "\n",
        "# Отбираем уникальных пользователей\n",
        "users_29_unique = set(users_29)\n",
        "churn_29 = (len(registrations)-len(users_29_unique))/len(registrations)\n",
        "churn_29"
      ],
      "metadata": {
        "id": "hKN7vidq0mJ3",
        "outputId": "5f0d89ac-336a-4fa4-8a13-e6cb0c06ecf4",
        "colab": {
          "base_uri": "https://localhost:8080/"
        }
      },
      "execution_count": 9,
      "outputs": [
        {
          "output_type": "execute_result",
          "data": {
            "text/plain": [
              "0.509"
            ]
          },
          "metadata": {},
          "execution_count": 9
        }
      ]
    },
    {
      "cell_type": "code",
      "source": [
        "#@title ✏️ Проверка: чтобы проверить свое решение запустите код в этой ячейке\n",
        "correct_answer = float(answers[3])\n",
        "\n",
        "try:\n",
        "    assert churn_29 == correct_answer\n",
        "except AssertionError:\n",
        "    print('Ответы не совпадают')\n",
        "else:\n",
        "    print('Поздравляем, Вы справились!')"
      ],
      "metadata": {
        "id": "14KnR1gD0ou9",
        "outputId": "8a294575-b17e-4c23-e123-4e15112b60c8",
        "colab": {
          "base_uri": "https://localhost:8080/"
        }
      },
      "execution_count": 10,
      "outputs": [
        {
          "output_type": "stream",
          "name": "stdout",
          "text": [
            "Поздравляем, Вы справились!\n"
          ]
        }
      ]
    },
    {
      "cell_type": "markdown",
      "source": [
        "### **Посчитайте Mau, Wau, Dau за последний месяц/неделю/день записей**\n",
        "\n",
        "Сохраните результат в переменные `dec_mau`, `dec_wau`, `dec_dau` соответственно\n",
        "\n",
        "**Примечание:** последний месяц записей - декабрь. Поэтому `mau` рассчитываем для декабря (2021 года), для `wau` берем последнюю неделю - с 25 по 31 декабря, и для `dau` соответственно последний день - 31 декабря."
      ],
      "metadata": {
        "id": "QuO3ZwRI5mdH"
      }
    },
    {
      "cell_type": "code",
      "source": [
        "# Ваше решение\n",
        "dec_users = [user for user in entries if '2021-12-01' <= user[1] <= '2021-12-31']\n",
        "unique_dec_users = set(item[0] for item in dec_users)\n",
        "\n",
        "dec_mau = len(unique_dec_users)\n",
        "dec_mau"
      ],
      "metadata": {
        "id": "HxGWkaSp5kpo",
        "outputId": "f1b7c588-7042-4547-c67b-eb300f256e4c",
        "colab": {
          "base_uri": "https://localhost:8080/"
        }
      },
      "execution_count": 11,
      "outputs": [
        {
          "output_type": "execute_result",
          "data": {
            "text/plain": [
              "133"
            ]
          },
          "metadata": {},
          "execution_count": 11
        }
      ]
    },
    {
      "cell_type": "code",
      "source": [
        "#@title ✏️ Проверка: чтобы проверить свое решение запустите код в этой ячейке\n",
        "correct_answer = float(answers[4])\n",
        "\n",
        "try:\n",
        "    assert dec_mau == correct_answer\n",
        "except AssertionError:\n",
        "    print('Ответы не совпадают')\n",
        "else:\n",
        "    print('Поздравляем, Вы справились!')"
      ],
      "metadata": {
        "id": "dpK4clbe5xiH",
        "outputId": "c74592b6-9f01-4091-9bf4-1d361e42ddee",
        "colab": {
          "base_uri": "https://localhost:8080/"
        }
      },
      "execution_count": 12,
      "outputs": [
        {
          "output_type": "stream",
          "name": "stdout",
          "text": [
            "Поздравляем, Вы справились!\n"
          ]
        }
      ]
    },
    {
      "cell_type": "code",
      "source": [
        "# Ваше решение\n",
        "dec_users = [user for user in entries if '2021-12-25' <= user[1] <= '2021-12-31']\n",
        "unique_dec_users = set(item[0] for item in dec_users)\n",
        "\n",
        "dec_wau = len(unique_dec_users)\n",
        "dec_wau"
      ],
      "metadata": {
        "id": "urEWcCuk522y",
        "outputId": "68cd546f-9956-47ee-c8c4-b4de865c4aa4",
        "colab": {
          "base_uri": "https://localhost:8080/"
        }
      },
      "execution_count": 13,
      "outputs": [
        {
          "output_type": "execute_result",
          "data": {
            "text/plain": [
              "84"
            ]
          },
          "metadata": {},
          "execution_count": 13
        }
      ]
    },
    {
      "cell_type": "code",
      "source": [
        "#@title ✏️ Проверка: чтобы проверить свое решение запустите код в этой ячейке\n",
        "correct_answer = float(answers[5])\n",
        "\n",
        "try:\n",
        "    assert dec_wau == correct_answer\n",
        "except AssertionError:\n",
        "    print('Ответы не совпадают')\n",
        "else:\n",
        "    print('Поздравляем, Вы справились!')"
      ],
      "metadata": {
        "id": "xziXbjnJ549b",
        "outputId": "265b3e5f-a2f4-4128-8311-e9bb76e67839",
        "colab": {
          "base_uri": "https://localhost:8080/"
        }
      },
      "execution_count": 14,
      "outputs": [
        {
          "output_type": "stream",
          "name": "stdout",
          "text": [
            "Поздравляем, Вы справились!\n"
          ]
        }
      ]
    },
    {
      "cell_type": "code",
      "source": [
        "# Ваше решение\n",
        "dec_users = [user for user in entries if user[1] == '2021-12-31']\n",
        "unique_dec_users = set(item[0] for item in dec_users)\n",
        "\n",
        "dec_dau = len(unique_dec_users)\n",
        "dec_dau"
      ],
      "metadata": {
        "id": "hv7Nz3TN59Ds",
        "outputId": "22e28033-4aee-45c2-8f92-ca774f7f637a",
        "colab": {
          "base_uri": "https://localhost:8080/"
        }
      },
      "execution_count": 15,
      "outputs": [
        {
          "output_type": "execute_result",
          "data": {
            "text/plain": [
              "47"
            ]
          },
          "metadata": {},
          "execution_count": 15
        }
      ]
    },
    {
      "cell_type": "code",
      "source": [
        "#@title ✏️ Проверка: чтобы проверить свое решение запустите код в этой ячейке\n",
        "correct_answer = float(answers[6])\n",
        "\n",
        "try:\n",
        "    assert dec_dau == correct_answer\n",
        "except AssertionError:\n",
        "    print('Ответы не совпадают')\n",
        "else:\n",
        "    print('Поздравляем, Вы справились!')"
      ],
      "metadata": {
        "id": "1csOLxor5_ox",
        "outputId": "be73a99c-0581-4fa9-a6d9-f6aa6b2d89fe",
        "colab": {
          "base_uri": "https://localhost:8080/"
        }
      },
      "execution_count": 16,
      "outputs": [
        {
          "output_type": "stream",
          "name": "stdout",
          "text": [
            "Поздравляем, Вы справились!\n"
          ]
        }
      ]
    },
    {
      "cell_type": "markdown",
      "source": [
        "### **Посчитайте Mau, Wau, Dau усредненные**\n",
        "\n",
        "Сохраните результат в переменные `avg_mau`, `avg_wau`, `avg_dau` соответственно\n",
        "\n",
        "**Примечание:** результаты округлите до 5 знаков после запятой"
      ],
      "metadata": {
        "id": "gzElxXgv6Dyr"
      }
    },
    {
      "cell_type": "code",
      "source": [
        "d = {'key1':1,'key2':14,'key3':47}\n",
        "sum(d.values())"
      ],
      "metadata": {
        "colab": {
          "base_uri": "https://localhost:8080/"
        },
        "id": "is0z3W0JY42H",
        "outputId": "50d4774b-eb26-44fb-9a81-8bebaeb46ab6"
      },
      "execution_count": 17,
      "outputs": [
        {
          "output_type": "execute_result",
          "data": {
            "text/plain": [
              "62"
            ]
          },
          "metadata": {},
          "execution_count": 17
        }
      ]
    },
    {
      "cell_type": "code",
      "source": [
        "# Ваше решение\n",
        "from collections import defaultdict\n",
        "from datetime import datetime\n",
        "users = []\n",
        "counts = defaultdict(set)\n",
        "\n",
        "for id, date in entries:\n",
        "  date_YM = date[:7]\n",
        "  users.append([id, date_YM])\n",
        "  # Ключ в формате \"ГОД-НОМЕР_НЕДЕЛИ\"\n",
        "  key = f\"{date_YM}\"\n",
        "  counts[key].add(id)\n",
        "\n",
        "count_of_unique_user_ids = {}\n",
        "for key, value in counts.items():\n",
        "    count_of_unique_user_ids[key] = len(value)\n",
        "\n",
        "sum_total = 0\n",
        "for key, value in count_of_unique_user_ids.items():\n",
        "    sum_total += value\n",
        "\n",
        "avg_mau = round(sum_total/len(count_of_unique_user_ids), 5)\n",
        "avg_mau"
      ],
      "metadata": {
        "id": "mUDYPPqx6RPr",
        "outputId": "c4e1e005-1d26-49cf-ce50-4aae03bc74e3",
        "colab": {
          "base_uri": "https://localhost:8080/"
        }
      },
      "execution_count": 18,
      "outputs": [
        {
          "output_type": "execute_result",
          "data": {
            "text/plain": [
              "102.58333"
            ]
          },
          "metadata": {},
          "execution_count": 18
        }
      ]
    },
    {
      "cell_type": "code",
      "source": [
        "#@title ✏️ Проверка: чтобы проверить свое решение запустите код в этой ячейке\n",
        "correct_answer = float(answers[7])\n",
        "\n",
        "try:\n",
        "    assert avg_mau == correct_answer\n",
        "except AssertionError:\n",
        "    print('Ответы не совпадают')\n",
        "else:\n",
        "    print('Поздравляем, Вы справились!')"
      ],
      "metadata": {
        "id": "CfikZaBu6V9_",
        "outputId": "5a763968-0cc0-4aae-d59b-eafeb629eed7",
        "colab": {
          "base_uri": "https://localhost:8080/"
        }
      },
      "execution_count": 19,
      "outputs": [
        {
          "output_type": "stream",
          "name": "stdout",
          "text": [
            "Поздравляем, Вы справились!\n"
          ]
        }
      ]
    },
    {
      "cell_type": "code",
      "source": [
        "# Ваше решение\n",
        "from collections import defaultdict\n",
        "from datetime import datetime\n",
        "users = []\n",
        "counts = defaultdict(set)\n",
        "\n",
        "for id, date in entries:\n",
        "  date_obj = datetime.strptime(date, '%Y-%m-%d')\n",
        "# Номер недели в году и год\n",
        "  year, week_num, _ = date_obj.isocalendar()\n",
        "  users.append([id, week_num])\n",
        "  # Ключ в формате \"ГОД-НОМЕР_НЕДЕЛИ\"\n",
        "  key = f\"{year}-{week_num}\"\n",
        "  counts[key].add(id)\n",
        "\n",
        "count_of_unique_user_ids = {}\n",
        "for key, value in counts.items():\n",
        "    count_of_unique_user_ids[key] = len(value)\n",
        "\n",
        "sum_total = 0\n",
        "for key, value in count_of_unique_user_ids.items():\n",
        "    sum_total += value\n",
        "\n",
        "avg_wau = round(sum_total/len(count_of_unique_user_ids), 5)\n",
        "avg_wau"
      ],
      "metadata": {
        "id": "WydV9g9C6x7O",
        "outputId": "a882ec97-6a8d-46ed-f315-94426a5b6669",
        "colab": {
          "base_uri": "https://localhost:8080/"
        }
      },
      "execution_count": 20,
      "outputs": [
        {
          "output_type": "execute_result",
          "data": {
            "text/plain": [
              "89.86792"
            ]
          },
          "metadata": {},
          "execution_count": 20
        }
      ]
    },
    {
      "cell_type": "code",
      "source": [
        "#@title ✏️ Проверка: чтобы проверить свое решение запустите код в этой ячейке\n",
        "correct_answer = float(answers[8])\n",
        "\n",
        "try:\n",
        "    assert avg_wau == correct_answer\n",
        "except AssertionError:\n",
        "    print('Ответы не совпадают')\n",
        "else:\n",
        "    print('Поздравляем, Вы справились!')"
      ],
      "metadata": {
        "id": "qbZgzDpV6zUl",
        "outputId": "1f0dff94-3d1a-4783-ae2e-38e744f536c8",
        "colab": {
          "base_uri": "https://localhost:8080/"
        }
      },
      "execution_count": 21,
      "outputs": [
        {
          "output_type": "stream",
          "name": "stdout",
          "text": [
            "Поздравляем, Вы справились!\n"
          ]
        }
      ]
    },
    {
      "cell_type": "code",
      "source": [
        "# Ваше решение\n",
        "from collections import defaultdict\n",
        "from datetime import datetime\n",
        "\n",
        "unique_users = set(tuple(item) for item in entries)\n",
        "# Словарь для подсчёта\n",
        "date_count_dict = defaultdict(int)\n",
        "\n",
        "# Считаем количество элементов для каждой даты\n",
        "for item in unique_users:\n",
        "    date = item[1]\n",
        "    date_count_dict[date] += 1\n",
        "\n",
        "date_count_dict = dict(date_count_dict)\n",
        "total_sum_am = sum(date_count_dict.values())\n",
        "avg_dau = round(total_sum_am/365, 5)\n",
        "avg_dau"
      ],
      "metadata": {
        "id": "NgqOR38d64_T",
        "outputId": "fc52e3cb-94f8-44fe-d073-39e834e79ef4",
        "colab": {
          "base_uri": "https://localhost:8080/"
        }
      },
      "execution_count": 22,
      "outputs": [
        {
          "output_type": "execute_result",
          "data": {
            "text/plain": [
              "40.5589"
            ]
          },
          "metadata": {},
          "execution_count": 22
        }
      ]
    },
    {
      "cell_type": "code",
      "source": [
        "#@title ✏️ Проверка: чтобы проверить свое решение запустите код в этой ячейке\n",
        "correct_answer = float(answers[9])\n",
        "\n",
        "try:\n",
        "    assert avg_dau == correct_answer\n",
        "except AssertionError:\n",
        "    print('Ответы не совпадают')\n",
        "else:\n",
        "    print('Поздравляем, Вы справились!')"
      ],
      "metadata": {
        "id": "TbmDR4NP66qm",
        "colab": {
          "base_uri": "https://localhost:8080/"
        },
        "outputId": "1201cb84-139b-4535-d423-22e5fa2e00ff"
      },
      "execution_count": 23,
      "outputs": [
        {
          "output_type": "stream",
          "name": "stdout",
          "text": [
            "Поздравляем, Вы справились!\n"
          ]
        }
      ]
    }
  ]
}