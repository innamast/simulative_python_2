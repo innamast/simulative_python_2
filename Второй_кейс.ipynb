{
  "nbformat": 4,
  "nbformat_minor": 0,
  "metadata": {
    "colab": {
      "provenance": [],
      "toc_visible": true,
      "include_colab_link": true
    },
    "kernelspec": {
      "name": "python3",
      "display_name": "Python 3"
    },
    "language_info": {
      "name": "python"
    }
  },
  "cells": [
    {
      "cell_type": "markdown",
      "metadata": {
        "id": "view-in-github",
        "colab_type": "text"
      },
      "source": [
        "<a href=\"https://colab.research.google.com/github/innamast/simulative_python_2/blob/main/%D0%92%D1%82%D0%BE%D1%80%D0%BE%D0%B9_%D0%BA%D0%B5%D0%B9%D1%81.ipynb\" target=\"_parent\"><img src=\"https://colab.research.google.com/assets/colab-badge.svg\" alt=\"Open In Colab\"/></a>"
      ]
    },
    {
      "cell_type": "markdown",
      "source": [
        "## 2 кейс\n",
        "\n",
        "**Соберите данные из Google Sheets и напишите функцию `generate_report`, которая принимает три списка (данные с каждого листа в Google Sheets) и сохраняет отчет в файл `student_debt_report.txt`**"
      ],
      "metadata": {
        "id": "kilnMAFvwPlm"
      }
    },
    {
      "cell_type": "markdown",
      "source": [
        "**Важно**\n",
        "\n",
        "Перед началом решения задачи выполните следующую ячейку - в ней скачиваются нужные файлы"
      ],
      "metadata": {
        "id": "Ese_hT_YwxHw"
      }
    },
    {
      "cell_type": "code",
      "execution_count": 80,
      "metadata": {
        "id": "84h9WDU8ngRf",
        "colab": {
          "base_uri": "https://localhost:8080/"
        },
        "outputId": "ae332481-3158-45a5-8657-cde02ceccdbb"
      },
      "outputs": [
        {
          "output_type": "stream",
          "name": "stdout",
          "text": [
            "--2025-07-21 20:20:40--  https://gist.github.com/Vs8th/d0bd4bdbbb58c8ae4f70a2a503e2d5fc/raw/creds.json\n",
            "Resolving gist.github.com (gist.github.com)... 140.82.112.4\n",
            "Connecting to gist.github.com (gist.github.com)|140.82.112.4|:443... connected.\n",
            "HTTP request sent, awaiting response... 301 Moved Permanently\n",
            "Location: https://gist.githubusercontent.com/Vs8th/d0bd4bdbbb58c8ae4f70a2a503e2d5fc/raw/creds.json [following]\n",
            "--2025-07-21 20:20:40--  https://gist.githubusercontent.com/Vs8th/d0bd4bdbbb58c8ae4f70a2a503e2d5fc/raw/creds.json\n",
            "Resolving gist.githubusercontent.com (gist.githubusercontent.com)... 185.199.108.133, 185.199.109.133, 185.199.110.133, ...\n",
            "Connecting to gist.githubusercontent.com (gist.githubusercontent.com)|185.199.108.133|:443... connected.\n",
            "HTTP request sent, awaiting response... 200 OK\n",
            "Length: 2358 (2.3K) [text/plain]\n",
            "Saving to: ‘creds.json.4’\n",
            "\n",
            "\rcreds.json.4          0%[                    ]       0  --.-KB/s               \rcreds.json.4        100%[===================>]   2.30K  --.-KB/s    in 0s      \n",
            "\n",
            "2025-07-21 20:20:40 (30.7 MB/s) - ‘creds.json.4’ saved [2358/2358]\n",
            "\n",
            "--2025-07-21 20:20:40--  https://gist.github.com/Vs8th/39c5deed0f5539d781f00328f7fd4fe0/raw/result.txt\n",
            "Resolving gist.github.com (gist.github.com)... 140.82.114.4\n",
            "Connecting to gist.github.com (gist.github.com)|140.82.114.4|:443... connected.\n",
            "HTTP request sent, awaiting response... 301 Moved Permanently\n",
            "Location: https://gist.githubusercontent.com/Vs8th/39c5deed0f5539d781f00328f7fd4fe0/raw/result.txt [following]\n",
            "--2025-07-21 20:20:40--  https://gist.githubusercontent.com/Vs8th/39c5deed0f5539d781f00328f7fd4fe0/raw/result.txt\n",
            "Resolving gist.githubusercontent.com (gist.githubusercontent.com)... 185.199.108.133, 185.199.109.133, 185.199.110.133, ...\n",
            "Connecting to gist.githubusercontent.com (gist.githubusercontent.com)|185.199.108.133|:443... connected.\n",
            "HTTP request sent, awaiting response... 200 OK\n",
            "Length: 198 [text/plain]\n",
            "Saving to: ‘result.txt.4’\n",
            "\n",
            "result.txt.4        100%[===================>]     198  --.-KB/s    in 0s      \n",
            "\n",
            "2025-07-21 20:20:40 (3.34 MB/s) - ‘result.txt.4’ saved [198/198]\n",
            "\n"
          ]
        }
      ],
      "source": [
        "!wget https://gist.github.com/Vs8th/d0bd4bdbbb58c8ae4f70a2a503e2d5fc/raw/creds.json\n",
        "\n",
        "!wget https://gist.github.com/Vs8th/39c5deed0f5539d781f00328f7fd4fe0/raw/result.txt"
      ]
    },
    {
      "cell_type": "markdown",
      "source": [
        "Чтобы посмотреть как выглядят сами гугл таблицы в оригинале - можете перейти по [ссылке](https://docs.google.com/spreadsheets/d/1hRnw-PEftF0J-6KY7InlILVwWdkJu4vJiGwRjuE_P4U/edit?usp=sharing) и изучить."
      ],
      "metadata": {
        "id": "4DrLBsjgxAEA"
      }
    },
    {
      "cell_type": "markdown",
      "source": [
        "Небольшое описание столбцов в таблицах:  \n",
        "**Лист1:** `student_id` - айди студента; `student_name` - имя студента; `installment` (Y/N) - факт наличия рассрочки у студента (Y - рассрочка есть, N - рассрочки нет).  \n",
        "**Лист2:** `student_id` - айди студента; `last_payment_date` - дата последней полученной оплаты; `expected_payment_date` - дата, в которую ожидаем следующий платеж (рассчитывается от даты последнего платежа).  \n",
        "**Лист3:** `student_id` - айди студента; `already_payed_amount` - уже выплаченная часть рассрочки; `left_to_pay` - оставшаяся (невыплаченная) часть; `one-time_payment` - единоразовый платеж; `installment_amount` - общая сумма, которая бралась в рассрочку."
      ],
      "metadata": {
        "id": "n9JJRgd4xLC7"
      }
    },
    {
      "cell_type": "markdown",
      "source": [
        "Как примерно должен выглядеть результат:"
      ],
      "metadata": {
        "id": "DzT-pVSOxDKF"
      }
    },
    {
      "cell_type": "code",
      "source": [
        "with open('result.txt') as f:\n",
        "  print(f.read())"
      ],
      "metadata": {
        "id": "yvYYOXrBxChi",
        "colab": {
          "base_uri": "https://localhost:8080/"
        },
        "outputId": "a13b2101-919b-494f-a1bf-1144d75bb6e2"
      },
      "execution_count": 81,
      "outputs": [
        {
          "output_type": "stream",
          "name": "stdout",
          "text": [
            "Студент Иванов У.У. - долг 100000 рублей\n",
            "Студент Петров Е.Е. - долг 250000 рублей\n",
            "Студент Сидоров И.И. - долг 10000 рублей\n"
          ]
        }
      ]
    },
    {
      "cell_type": "code",
      "source": [
        "#@title Если возникнут трудности с определением `scope`, подсказка:\n",
        "\n",
        "scope = ['https://www.googleapis.com/auth/spreadsheets.readonly',\n",
        "         'https://www.googleapis.com/auth/drive']"
      ],
      "metadata": {
        "id": "SOZfpY8OnJGl"
      },
      "execution_count": 82,
      "outputs": []
    },
    {
      "cell_type": "markdown",
      "source": [
        "**Примечание**\n",
        "\n",
        "Считать должников необходимо на 1 марта 2023 года. То есть определяя количество просроченных платежей, мы определяем их количество не на настоящую дату, а на **1 марта 2023 года**. А периоды внесения платежей для всех студентов одинаковы - **6 месяцев** (183 дня).\n",
        "\n",
        "То есть, если ожидаемый платеж должен был пройти 3 февраля 2022 года, то к 1 марта 2023 студент просрочил уже три платежа (3 февраля 2022, 3 августа 2022 и 3 февраля 2023). При расчетах отталкивайтесь от даты ожидаемого платежа, разницу между платежами берите 183 дня."
      ],
      "metadata": {
        "id": "gJh58XYTk181"
      }
    },
    {
      "cell_type": "markdown",
      "source": [
        "**Решение**\n",
        "\n",
        "Напишите свое решение ниже"
      ],
      "metadata": {
        "id": "zvpm-3CmxH5l"
      }
    },
    {
      "cell_type": "code",
      "source": [
        "def generate_report(sheet1, sheet2, sheet3):\n",
        "\n",
        "  ...\n",
        "\n"
      ],
      "metadata": {
        "id": "CFDewPXwxLoX"
      },
      "execution_count": 83,
      "outputs": []
    },
    {
      "cell_type": "code",
      "source": [
        "import gspread\n",
        "from oauth2client.service_account import ServiceAccountCredentials\n",
        "from datetime import datetime\n",
        "from collections import defaultdict"
      ],
      "metadata": {
        "id": "rsTb8JEpeqBD"
      },
      "execution_count": 84,
      "outputs": []
    },
    {
      "cell_type": "code",
      "source": [
        "# Указываем необходимые права доступа к таблицам\n",
        "scope = ['https://www.googleapis.com/auth/spreadsheets.readonly',\n",
        "         'https://www.googleapis.com/auth/drive']\n",
        "\n",
        "# Загружаем ключи аутентификации из файла json\n",
        "creds = ServiceAccountCredentials.from_json_keyfile_name('creds.json', scope)\n",
        "\n",
        "# Авторизуемся в Google Sheets API\n",
        "client = gspread.authorize(creds)"
      ],
      "metadata": {
        "id": "LMmWeAxdcB99"
      },
      "execution_count": 85,
      "outputs": []
    },
    {
      "cell_type": "code",
      "source": [
        "worksheets = client.open_by_key(\"1hRnw-PEftF0J-6KY7InlILVwWdkJu4vJiGwRjuE_P4U\")"
      ],
      "metadata": {
        "id": "N1CD9tKKdwgy"
      },
      "execution_count": 86,
      "outputs": []
    },
    {
      "cell_type": "code",
      "source": [
        "sheet1 = worksheets.worksheet(\"Лист1\").get_all_records()\n",
        "sheet2 = worksheets.worksheet(\"Лист2\").get_all_records()\n",
        "sheet3 = worksheets.worksheet(\"Лист3\").get_all_records()"
      ],
      "metadata": {
        "id": "wVBNsIO0d2xH"
      },
      "execution_count": 87,
      "outputs": []
    },
    {
      "cell_type": "code",
      "source": [
        "current_date = '01.03.2023'"
      ],
      "metadata": {
        "id": "5P7kRaAPeKhb"
      },
      "execution_count": 88,
      "outputs": []
    },
    {
      "cell_type": "code",
      "source": [
        "def generate_report(sheet1, sheet2, sheet3):\n",
        "    # Сделаем объединение словарей в один словарь\n",
        "    merged_dict = defaultdict(dict)\n",
        "    for item in sheet1:\n",
        "        merged_dict[item[\"student_id\"]].update(item)\n",
        "    for item in sheet2:\n",
        "        merged_dict[item[\"student_id\"]].update(item)\n",
        "    for item in sheet3:\n",
        "        merged_dict[item[\"student_id\"]].update(item)\n",
        "\n",
        "    # Преобразуем в список\n",
        "    list_full = list(merged_dict.values())\n",
        "\n",
        "    # Отфильтруем тех, кто платил в рассрочку с запланированным платежем до 01.03.2023\n",
        "    list_filt = [st for st in list_full if st['installment'] != 'N' \\\n",
        "                 and datetime.strptime(st['expected_payment_date'], '%d.%m.%Y') \\\n",
        "                 <= datetime.strptime(current_date, '%d.%m.%Y')]\n",
        "\n",
        "    with open('student_debt_report.txt','w') as f:\n",
        "        for st in list_filt:\n",
        "            n = (datetime.strptime(current_date, '%d.%m.%Y') - \\\n",
        "                datetime.strptime(st['expected_payment_date'], '%d.%m.%Y')).days // 183\n",
        "            debt = min(st['one-time_payment'] * (n + 1), st['left_to_pay'])\n",
        "            name = st['student_name']\n",
        "            f.write(f'Студент {name} - долг {debt} рублей\\n')\n",
        "\n",
        "generate_report(sheet1, sheet2, sheet3)"
      ],
      "metadata": {
        "id": "N5aOUOtgm_9I"
      },
      "execution_count": 89,
      "outputs": []
    },
    {
      "cell_type": "markdown",
      "source": [
        "✏️ ✏️ ✏️\n",
        "\n",
        "**Проверка**\n",
        "\n",
        "Чтобы проверить свое решение, запустите код в следующих ячейках"
      ],
      "metadata": {
        "id": "VSZxSfjWxeZr"
      }
    },
    {
      "cell_type": "code",
      "source": [
        "# Здесь будет скачиваться файл с эталонным ответом\n",
        "\n",
        "!wget https://gist.github.com/Vs8th/63832f093f4db8d8b251ba5d39571f3d/raw/student_debt.txt\n",
        "\n",
        "import pandas as pd\n",
        "\n",
        "user_answer = pd.read_csv('student_debt_report.txt')\n",
        "correct_answer = pd.read_csv('student_debt.txt')"
      ],
      "metadata": {
        "id": "nbDL6rllxe4X",
        "colab": {
          "base_uri": "https://localhost:8080/"
        },
        "outputId": "0c90acf9-a471-42d7-9b8c-42e2f60512bd"
      },
      "execution_count": 90,
      "outputs": [
        {
          "output_type": "stream",
          "name": "stdout",
          "text": [
            "--2025-07-21 20:20:42--  https://gist.github.com/Vs8th/63832f093f4db8d8b251ba5d39571f3d/raw/student_debt.txt\n",
            "Resolving gist.github.com (gist.github.com)... 140.82.113.3\n",
            "Connecting to gist.github.com (gist.github.com)|140.82.113.3|:443... connected.\n",
            "HTTP request sent, awaiting response... 301 Moved Permanently\n",
            "Location: https://gist.githubusercontent.com/Vs8th/63832f093f4db8d8b251ba5d39571f3d/raw/student_debt.txt [following]\n",
            "--2025-07-21 20:20:42--  https://gist.githubusercontent.com/Vs8th/63832f093f4db8d8b251ba5d39571f3d/raw/student_debt.txt\n",
            "Resolving gist.githubusercontent.com (gist.githubusercontent.com)... 185.199.108.133, 185.199.109.133, 185.199.110.133, ...\n",
            "Connecting to gist.githubusercontent.com (gist.githubusercontent.com)|185.199.108.133|:443... connected.\n",
            "HTTP request sent, awaiting response... 200 OK\n",
            "Length: 11325 (11K) [text/plain]\n",
            "Saving to: ‘student_debt.txt.5’\n",
            "\n",
            "\rstudent_debt.txt.5    0%[                    ]       0  --.-KB/s               \rstudent_debt.txt.5  100%[===================>]  11.06K  --.-KB/s    in 0s      \n",
            "\n",
            "2025-07-21 20:20:42 (84.9 MB/s) - ‘student_debt.txt.5’ saved [11325/11325]\n",
            "\n"
          ]
        }
      ]
    },
    {
      "cell_type": "code",
      "source": [
        "try:\n",
        "  assert (user_answer == correct_answer).all().all(), 'Ответы не совпадают'\n",
        "  assert user_answer.columns.equals(correct_answer.columns), 'Названия столбцов не совпадают'\n",
        "except Exception as err:\n",
        "  raise AssertionError(f'При проверке возникла ошибка {repr(err)}')\n",
        "else:\n",
        "  print('Поздравляем, Вы справились и успешно прошли все проверки!!')"
      ],
      "metadata": {
        "id": "gMqsbz7Wxm-G",
        "colab": {
          "base_uri": "https://localhost:8080/"
        },
        "outputId": "dd9aea18-7181-494e-dbb0-f552ee602e27"
      },
      "execution_count": 91,
      "outputs": [
        {
          "output_type": "stream",
          "name": "stdout",
          "text": [
            "Поздравляем, Вы справились и успешно прошли все проверки!!\n"
          ]
        }
      ]
    }
  ]
}