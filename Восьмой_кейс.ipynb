{
  "nbformat": 4,
  "nbformat_minor": 0,
  "metadata": {
    "colab": {
      "provenance": [],
      "include_colab_link": true
    },
    "kernelspec": {
      "name": "python3",
      "display_name": "Python 3"
    },
    "language_info": {
      "name": "python"
    }
  },
  "cells": [
    {
      "cell_type": "markdown",
      "metadata": {
        "id": "view-in-github",
        "colab_type": "text"
      },
      "source": [
        "<a href=\"https://colab.research.google.com/github/innamast/simulative_python_2/blob/main/%D0%92%D0%BE%D1%81%D1%8C%D0%BC%D0%BE%D0%B9_%D0%BA%D0%B5%D0%B9%D1%81.ipynb\" target=\"_parent\"><img src=\"https://colab.research.google.com/assets/colab-badge.svg\" alt=\"Open In Colab\"/></a>"
      ]
    },
    {
      "cell_type": "markdown",
      "source": [
        "## **3 кейс**\n",
        "\n",
        "**Пользовательские сессии**"
      ],
      "metadata": {
        "id": "XUqCUBW5fUST"
      }
    },
    {
      "cell_type": "markdown",
      "source": [
        "**Важно**\n",
        "\n",
        "Перед началом решения выполните следующую ячейку, чтобы загрузить необходимый для работы файл."
      ],
      "metadata": {
        "id": "OcK9kF9mfZIt"
      }
    },
    {
      "cell_type": "code",
      "execution_count": 1,
      "metadata": {
        "id": "KtNBw8nOfPsB",
        "colab": {
          "base_uri": "https://localhost:8080/"
        },
        "outputId": "c0af2d87-0ad6-4868-e543-72809f671f99"
      },
      "outputs": [
        {
          "output_type": "stream",
          "name": "stdout",
          "text": [
            "--2025-07-30 21:30:16--  https://gist.github.com/Vs8th/9fcfa729905072c12b1e535c71565a68/raw/sessions.csv\n",
            "Resolving gist.github.com (gist.github.com)... 20.27.177.113\n",
            "Connecting to gist.github.com (gist.github.com)|20.27.177.113|:443... connected.\n",
            "HTTP request sent, awaiting response... 301 Moved Permanently\n",
            "Location: https://gist.githubusercontent.com/Vs8th/9fcfa729905072c12b1e535c71565a68/raw/sessions.csv [following]\n",
            "--2025-07-30 21:30:17--  https://gist.githubusercontent.com/Vs8th/9fcfa729905072c12b1e535c71565a68/raw/sessions.csv\n",
            "Resolving gist.githubusercontent.com (gist.githubusercontent.com)... 185.199.109.133, 185.199.108.133, 185.199.110.133, ...\n",
            "Connecting to gist.githubusercontent.com (gist.githubusercontent.com)|185.199.109.133|:443... connected.\n",
            "HTTP request sent, awaiting response... 200 OK\n",
            "Length: 1880014 (1.8M) [text/plain]\n",
            "Saving to: ‘sessions.csv’\n",
            "\n",
            "sessions.csv        100%[===================>]   1.79M  5.88MB/s    in 0.3s    \n",
            "\n",
            "2025-07-30 21:30:18 (5.88 MB/s) - ‘sessions.csv’ saved [1880014/1880014]\n",
            "\n"
          ]
        }
      ],
      "source": [
        "!wget https://gist.github.com/Vs8th/9fcfa729905072c12b1e535c71565a68/raw/sessions.csv"
      ]
    },
    {
      "cell_type": "markdown",
      "source": [
        "Чтобы посмотреть как он выглядит выполните следующую ячейку."
      ],
      "metadata": {
        "id": "JIwIK2E5fcyA"
      }
    },
    {
      "cell_type": "code",
      "source": [
        "import pandas as pd\n",
        "\n",
        "df = pd.read_csv('sessions.csv')\n",
        "df"
      ],
      "metadata": {
        "id": "6f84pObFfbGE",
        "colab": {
          "base_uri": "https://localhost:8080/",
          "height": 424
        },
        "outputId": "39a96a32-5d83-47fa-d984-95687bf771fc"
      },
      "execution_count": 2,
      "outputs": [
        {
          "output_type": "execute_result",
          "data": {
            "text/plain": [
              "      user_id                                            session\n",
              "0       user0  [\"2023-05-06 20:43:45\", 1192, [[\"page0\", \"2023...\n",
              "1       user1  [\"2023-05-03 15:39:47\", 1642, [[\"page0\", \"2023...\n",
              "2       user1  [\"2023-05-16 21:24:30\", 506, [[\"page0\", \"2023-...\n",
              "3       user1  [\"2023-05-09 01:41:35\", 1004, [[\"page0\", \"2023...\n",
              "4       user1  [\"2023-05-26 05:31:50\", 984, [[\"page0\", \"2023-...\n",
              "...       ...                                                ...\n",
              "5278  user998  [\"2023-05-26 17:33:49\", 631, [[\"page0\", \"2023-...\n",
              "5279  user998  [\"2023-05-15 23:21:39\", 1393, [[\"page0\", \"2023...\n",
              "5280  user998  [\"2023-05-16 10:15:48\", 1448, [[\"page0\", \"2023...\n",
              "5281  user998  [\"2023-05-26 17:06:25\", 810, [[\"page0\", \"2023-...\n",
              "5282  user999  [\"2023-05-20 08:08:50\", 744, [[\"page0\", \"2023-...\n",
              "\n",
              "[5283 rows x 2 columns]"
            ],
            "text/html": [
              "\n",
              "  <div id=\"df-2138f53e-427a-462d-b560-a6bd067ff243\" class=\"colab-df-container\">\n",
              "    <div>\n",
              "<style scoped>\n",
              "    .dataframe tbody tr th:only-of-type {\n",
              "        vertical-align: middle;\n",
              "    }\n",
              "\n",
              "    .dataframe tbody tr th {\n",
              "        vertical-align: top;\n",
              "    }\n",
              "\n",
              "    .dataframe thead th {\n",
              "        text-align: right;\n",
              "    }\n",
              "</style>\n",
              "<table border=\"1\" class=\"dataframe\">\n",
              "  <thead>\n",
              "    <tr style=\"text-align: right;\">\n",
              "      <th></th>\n",
              "      <th>user_id</th>\n",
              "      <th>session</th>\n",
              "    </tr>\n",
              "  </thead>\n",
              "  <tbody>\n",
              "    <tr>\n",
              "      <th>0</th>\n",
              "      <td>user0</td>\n",
              "      <td>[\"2023-05-06 20:43:45\", 1192, [[\"page0\", \"2023...</td>\n",
              "    </tr>\n",
              "    <tr>\n",
              "      <th>1</th>\n",
              "      <td>user1</td>\n",
              "      <td>[\"2023-05-03 15:39:47\", 1642, [[\"page0\", \"2023...</td>\n",
              "    </tr>\n",
              "    <tr>\n",
              "      <th>2</th>\n",
              "      <td>user1</td>\n",
              "      <td>[\"2023-05-16 21:24:30\", 506, [[\"page0\", \"2023-...</td>\n",
              "    </tr>\n",
              "    <tr>\n",
              "      <th>3</th>\n",
              "      <td>user1</td>\n",
              "      <td>[\"2023-05-09 01:41:35\", 1004, [[\"page0\", \"2023...</td>\n",
              "    </tr>\n",
              "    <tr>\n",
              "      <th>4</th>\n",
              "      <td>user1</td>\n",
              "      <td>[\"2023-05-26 05:31:50\", 984, [[\"page0\", \"2023-...</td>\n",
              "    </tr>\n",
              "    <tr>\n",
              "      <th>...</th>\n",
              "      <td>...</td>\n",
              "      <td>...</td>\n",
              "    </tr>\n",
              "    <tr>\n",
              "      <th>5278</th>\n",
              "      <td>user998</td>\n",
              "      <td>[\"2023-05-26 17:33:49\", 631, [[\"page0\", \"2023-...</td>\n",
              "    </tr>\n",
              "    <tr>\n",
              "      <th>5279</th>\n",
              "      <td>user998</td>\n",
              "      <td>[\"2023-05-15 23:21:39\", 1393, [[\"page0\", \"2023...</td>\n",
              "    </tr>\n",
              "    <tr>\n",
              "      <th>5280</th>\n",
              "      <td>user998</td>\n",
              "      <td>[\"2023-05-16 10:15:48\", 1448, [[\"page0\", \"2023...</td>\n",
              "    </tr>\n",
              "    <tr>\n",
              "      <th>5281</th>\n",
              "      <td>user998</td>\n",
              "      <td>[\"2023-05-26 17:06:25\", 810, [[\"page0\", \"2023-...</td>\n",
              "    </tr>\n",
              "    <tr>\n",
              "      <th>5282</th>\n",
              "      <td>user999</td>\n",
              "      <td>[\"2023-05-20 08:08:50\", 744, [[\"page0\", \"2023-...</td>\n",
              "    </tr>\n",
              "  </tbody>\n",
              "</table>\n",
              "<p>5283 rows × 2 columns</p>\n",
              "</div>\n",
              "    <div class=\"colab-df-buttons\">\n",
              "\n",
              "  <div class=\"colab-df-container\">\n",
              "    <button class=\"colab-df-convert\" onclick=\"convertToInteractive('df-2138f53e-427a-462d-b560-a6bd067ff243')\"\n",
              "            title=\"Convert this dataframe to an interactive table.\"\n",
              "            style=\"display:none;\">\n",
              "\n",
              "  <svg xmlns=\"http://www.w3.org/2000/svg\" height=\"24px\" viewBox=\"0 -960 960 960\">\n",
              "    <path d=\"M120-120v-720h720v720H120Zm60-500h600v-160H180v160Zm220 220h160v-160H400v160Zm0 220h160v-160H400v160ZM180-400h160v-160H180v160Zm440 0h160v-160H620v160ZM180-180h160v-160H180v160Zm440 0h160v-160H620v160Z\"/>\n",
              "  </svg>\n",
              "    </button>\n",
              "\n",
              "  <style>\n",
              "    .colab-df-container {\n",
              "      display:flex;\n",
              "      gap: 12px;\n",
              "    }\n",
              "\n",
              "    .colab-df-convert {\n",
              "      background-color: #E8F0FE;\n",
              "      border: none;\n",
              "      border-radius: 50%;\n",
              "      cursor: pointer;\n",
              "      display: none;\n",
              "      fill: #1967D2;\n",
              "      height: 32px;\n",
              "      padding: 0 0 0 0;\n",
              "      width: 32px;\n",
              "    }\n",
              "\n",
              "    .colab-df-convert:hover {\n",
              "      background-color: #E2EBFA;\n",
              "      box-shadow: 0px 1px 2px rgba(60, 64, 67, 0.3), 0px 1px 3px 1px rgba(60, 64, 67, 0.15);\n",
              "      fill: #174EA6;\n",
              "    }\n",
              "\n",
              "    .colab-df-buttons div {\n",
              "      margin-bottom: 4px;\n",
              "    }\n",
              "\n",
              "    [theme=dark] .colab-df-convert {\n",
              "      background-color: #3B4455;\n",
              "      fill: #D2E3FC;\n",
              "    }\n",
              "\n",
              "    [theme=dark] .colab-df-convert:hover {\n",
              "      background-color: #434B5C;\n",
              "      box-shadow: 0px 1px 3px 1px rgba(0, 0, 0, 0.15);\n",
              "      filter: drop-shadow(0px 1px 2px rgba(0, 0, 0, 0.3));\n",
              "      fill: #FFFFFF;\n",
              "    }\n",
              "  </style>\n",
              "\n",
              "    <script>\n",
              "      const buttonEl =\n",
              "        document.querySelector('#df-2138f53e-427a-462d-b560-a6bd067ff243 button.colab-df-convert');\n",
              "      buttonEl.style.display =\n",
              "        google.colab.kernel.accessAllowed ? 'block' : 'none';\n",
              "\n",
              "      async function convertToInteractive(key) {\n",
              "        const element = document.querySelector('#df-2138f53e-427a-462d-b560-a6bd067ff243');\n",
              "        const dataTable =\n",
              "          await google.colab.kernel.invokeFunction('convertToInteractive',\n",
              "                                                    [key], {});\n",
              "        if (!dataTable) return;\n",
              "\n",
              "        const docLinkHtml = 'Like what you see? Visit the ' +\n",
              "          '<a target=\"_blank\" href=https://colab.research.google.com/notebooks/data_table.ipynb>data table notebook</a>'\n",
              "          + ' to learn more about interactive tables.';\n",
              "        element.innerHTML = '';\n",
              "        dataTable['output_type'] = 'display_data';\n",
              "        await google.colab.output.renderOutput(dataTable, element);\n",
              "        const docLink = document.createElement('div');\n",
              "        docLink.innerHTML = docLinkHtml;\n",
              "        element.appendChild(docLink);\n",
              "      }\n",
              "    </script>\n",
              "  </div>\n",
              "\n",
              "\n",
              "    <div id=\"df-418da956-09da-4309-8912-350c4dac9910\">\n",
              "      <button class=\"colab-df-quickchart\" onclick=\"quickchart('df-418da956-09da-4309-8912-350c4dac9910')\"\n",
              "                title=\"Suggest charts\"\n",
              "                style=\"display:none;\">\n",
              "\n",
              "<svg xmlns=\"http://www.w3.org/2000/svg\" height=\"24px\"viewBox=\"0 0 24 24\"\n",
              "     width=\"24px\">\n",
              "    <g>\n",
              "        <path d=\"M19 3H5c-1.1 0-2 .9-2 2v14c0 1.1.9 2 2 2h14c1.1 0 2-.9 2-2V5c0-1.1-.9-2-2-2zM9 17H7v-7h2v7zm4 0h-2V7h2v10zm4 0h-2v-4h2v4z\"/>\n",
              "    </g>\n",
              "</svg>\n",
              "      </button>\n",
              "\n",
              "<style>\n",
              "  .colab-df-quickchart {\n",
              "      --bg-color: #E8F0FE;\n",
              "      --fill-color: #1967D2;\n",
              "      --hover-bg-color: #E2EBFA;\n",
              "      --hover-fill-color: #174EA6;\n",
              "      --disabled-fill-color: #AAA;\n",
              "      --disabled-bg-color: #DDD;\n",
              "  }\n",
              "\n",
              "  [theme=dark] .colab-df-quickchart {\n",
              "      --bg-color: #3B4455;\n",
              "      --fill-color: #D2E3FC;\n",
              "      --hover-bg-color: #434B5C;\n",
              "      --hover-fill-color: #FFFFFF;\n",
              "      --disabled-bg-color: #3B4455;\n",
              "      --disabled-fill-color: #666;\n",
              "  }\n",
              "\n",
              "  .colab-df-quickchart {\n",
              "    background-color: var(--bg-color);\n",
              "    border: none;\n",
              "    border-radius: 50%;\n",
              "    cursor: pointer;\n",
              "    display: none;\n",
              "    fill: var(--fill-color);\n",
              "    height: 32px;\n",
              "    padding: 0;\n",
              "    width: 32px;\n",
              "  }\n",
              "\n",
              "  .colab-df-quickchart:hover {\n",
              "    background-color: var(--hover-bg-color);\n",
              "    box-shadow: 0 1px 2px rgba(60, 64, 67, 0.3), 0 1px 3px 1px rgba(60, 64, 67, 0.15);\n",
              "    fill: var(--button-hover-fill-color);\n",
              "  }\n",
              "\n",
              "  .colab-df-quickchart-complete:disabled,\n",
              "  .colab-df-quickchart-complete:disabled:hover {\n",
              "    background-color: var(--disabled-bg-color);\n",
              "    fill: var(--disabled-fill-color);\n",
              "    box-shadow: none;\n",
              "  }\n",
              "\n",
              "  .colab-df-spinner {\n",
              "    border: 2px solid var(--fill-color);\n",
              "    border-color: transparent;\n",
              "    border-bottom-color: var(--fill-color);\n",
              "    animation:\n",
              "      spin 1s steps(1) infinite;\n",
              "  }\n",
              "\n",
              "  @keyframes spin {\n",
              "    0% {\n",
              "      border-color: transparent;\n",
              "      border-bottom-color: var(--fill-color);\n",
              "      border-left-color: var(--fill-color);\n",
              "    }\n",
              "    20% {\n",
              "      border-color: transparent;\n",
              "      border-left-color: var(--fill-color);\n",
              "      border-top-color: var(--fill-color);\n",
              "    }\n",
              "    30% {\n",
              "      border-color: transparent;\n",
              "      border-left-color: var(--fill-color);\n",
              "      border-top-color: var(--fill-color);\n",
              "      border-right-color: var(--fill-color);\n",
              "    }\n",
              "    40% {\n",
              "      border-color: transparent;\n",
              "      border-right-color: var(--fill-color);\n",
              "      border-top-color: var(--fill-color);\n",
              "    }\n",
              "    60% {\n",
              "      border-color: transparent;\n",
              "      border-right-color: var(--fill-color);\n",
              "    }\n",
              "    80% {\n",
              "      border-color: transparent;\n",
              "      border-right-color: var(--fill-color);\n",
              "      border-bottom-color: var(--fill-color);\n",
              "    }\n",
              "    90% {\n",
              "      border-color: transparent;\n",
              "      border-bottom-color: var(--fill-color);\n",
              "    }\n",
              "  }\n",
              "</style>\n",
              "\n",
              "      <script>\n",
              "        async function quickchart(key) {\n",
              "          const quickchartButtonEl =\n",
              "            document.querySelector('#' + key + ' button');\n",
              "          quickchartButtonEl.disabled = true;  // To prevent multiple clicks.\n",
              "          quickchartButtonEl.classList.add('colab-df-spinner');\n",
              "          try {\n",
              "            const charts = await google.colab.kernel.invokeFunction(\n",
              "                'suggestCharts', [key], {});\n",
              "          } catch (error) {\n",
              "            console.error('Error during call to suggestCharts:', error);\n",
              "          }\n",
              "          quickchartButtonEl.classList.remove('colab-df-spinner');\n",
              "          quickchartButtonEl.classList.add('colab-df-quickchart-complete');\n",
              "        }\n",
              "        (() => {\n",
              "          let quickchartButtonEl =\n",
              "            document.querySelector('#df-418da956-09da-4309-8912-350c4dac9910 button');\n",
              "          quickchartButtonEl.style.display =\n",
              "            google.colab.kernel.accessAllowed ? 'block' : 'none';\n",
              "        })();\n",
              "      </script>\n",
              "    </div>\n",
              "    </div>\n",
              "  </div>\n"
            ],
            "application/vnd.google.colaboratory.intrinsic+json": {
              "type": "dataframe",
              "variable_name": "df",
              "summary": "{\n  \"name\": \"df\",\n  \"rows\": 5283,\n  \"fields\": [\n    {\n      \"column\": \"user_id\",\n      \"properties\": {\n        \"dtype\": \"category\",\n        \"num_unique_values\": 1000,\n        \"samples\": [\n          \"user521\",\n          \"user737\",\n          \"user740\"\n        ],\n        \"semantic_type\": \"\",\n        \"description\": \"\"\n      }\n    },\n    {\n      \"column\": \"session\",\n      \"properties\": {\n        \"dtype\": \"string\",\n        \"num_unique_values\": 5283,\n        \"samples\": [\n          \"[\\\"2023-05-06 22:16:51\\\", 1296, [[\\\"page0\\\", \\\"2023-05-06 22:25:50\\\"], [\\\"page1\\\", \\\"2023-05-06 22:37:04\\\"], [\\\"page2\\\", \\\"2023-05-06 22:29:50\\\"], [\\\"page3\\\", \\\"2023-05-06 22:26:00\\\"], [\\\"page4\\\", \\\"2023-05-06 22:24:16\\\"], [\\\"page5\\\", \\\"2023-05-06 22:37:49\\\"], [\\\"page6\\\", \\\"2023-05-06 22:23:45\\\"], [\\\"page7\\\", \\\"2023-05-06 22:36:13\\\"], [\\\"page8\\\", \\\"2023-05-06 22:26:03\\\"], [\\\"page9\\\", \\\"2023-05-06 22:24:01\\\"], [\\\"page10\\\", \\\"2023-05-06 22:35:25\\\"], [\\\"page11\\\", \\\"2023-05-06 22:36:45\\\"], [\\\"page12\\\", \\\"2023-05-06 22:18:43\\\"], [\\\"page13\\\", \\\"2023-05-06 22:28:13\\\"], [\\\"page14\\\", \\\"2023-05-06 22:38:04\\\"]]]\",\n          \"[\\\"2023-05-28 23:49:26\\\", 517, [[\\\"page0\\\", \\\"2023-05-28 23:50:20\\\"], [\\\"page1\\\", \\\"2023-05-28 23:53:26\\\"], [\\\"page2\\\", \\\"2023-05-28 23:54:56\\\"], [\\\"page3\\\", \\\"2023-05-28 23:57:24\\\"], [\\\"page4\\\", \\\"2023-05-28 23:55:40\\\"], [\\\"page5\\\", \\\"2023-05-28 23:56:58\\\"], [\\\"page6\\\", \\\"2023-05-28 23:56:57\\\"], [\\\"page7\\\", \\\"2023-05-28 23:53:49\\\"], [\\\"page8\\\", \\\"2023-05-28 23:53:56\\\"]]]\",\n          \"[\\\"2023-05-22 08:23:34\\\", 1050, [[\\\"page0\\\", \\\"2023-05-22 08:35:22\\\"], [\\\"page1\\\", \\\"2023-05-22 08:24:34\\\"], [\\\"page2\\\", \\\"2023-05-22 08:32:56\\\"], [\\\"page3\\\", \\\"2023-05-22 08:38:57\\\"]]]\"\n        ],\n        \"semantic_type\": \"\",\n        \"description\": \"\"\n      }\n    }\n  ]\n}"
            }
          },
          "metadata": {},
          "execution_count": 2
        }
      ]
    },
    {
      "cell_type": "markdown",
      "source": [
        "### **Решения**"
      ],
      "metadata": {
        "id": "CxmnD3GvffQ4"
      }
    },
    {
      "cell_type": "markdown",
      "source": [
        "#### **Задача 1**\n",
        "\n",
        "Ваша задача написать функцию `get_time_to_conversion`, которая принимает на вход сессии в формате, который вы определили для себя и подсчитывает среднее время между заходом на сайт и целевым действием.\n",
        "\n",
        "Результат - число типа `float`, округленное до двух знаков после запятой, сохраните в переменную `res`"
      ],
      "metadata": {
        "id": "5bdLXu2ksLB7"
      }
    },
    {
      "cell_type": "markdown",
      "source": [
        "**Решение**\n",
        "\n",
        "Напишите свое решение ниже"
      ],
      "metadata": {
        "id": "qUL4LtIUnJge"
      }
    },
    {
      "cell_type": "code",
      "source": [
        "\n",
        "from datetime import datetime\n",
        "\n",
        "def get_time_to_conversion(file):\n",
        "    with open(file, 'r') as f:\n",
        "        data = f.readlines()\n",
        "    data = data[1:]\n",
        "    users = []\n",
        "    for d in data:\n",
        "        a = d.find('\"[\"\"')\n",
        "        conv = d.find('conversion')\n",
        "        if conv != -1 :\n",
        "            user_name = d[:a-1]\n",
        "            start_session = datetime.strptime(d[a+4:a+23],'%Y-%m-%d %H:%M:%S')\n",
        "            end_session = datetime.strptime(d[conv+16:conv+35],'%Y-%m-%d %H:%M:%S')\n",
        "            users.append([user_name, start_session, end_session, (end_session - start_session).total_seconds()])\n",
        "    conversion = [u[3] for u in users]\n",
        "    return round(sum(conversion) / len(conversion), 2)\n",
        "res = get_time_to_conversion(\"sessions.csv\")\n",
        "res"
      ],
      "metadata": {
        "id": "Ia39hhmZbNRW",
        "colab": {
          "base_uri": "https://localhost:8080/"
        },
        "outputId": "f3313697-319e-40ea-a362-2317460cfffe"
      },
      "execution_count": 3,
      "outputs": [
        {
          "output_type": "execute_result",
          "data": {
            "text/plain": [
              "467.24"
            ]
          },
          "metadata": {},
          "execution_count": 3
        }
      ]
    },
    {
      "cell_type": "markdown",
      "source": [
        "✏️ ✏️ ✏️\n",
        "\n",
        "**Проверка**\n",
        "\n",
        "Чтобы проверить свое решение, запустите код в следующих ячейках"
      ],
      "metadata": {
        "id": "54Tvpn9OkDwV"
      }
    },
    {
      "cell_type": "code",
      "source": [
        "try:\n",
        "    assert res == 467.24\n",
        "except AssertionError:\n",
        "    print('Ответы не совпадают')\n",
        "else:\n",
        "    print('Поздравляем, Вы справились!')"
      ],
      "metadata": {
        "id": "LkqzVw9skKEC",
        "colab": {
          "base_uri": "https://localhost:8080/"
        },
        "outputId": "5ae341d5-8d27-472a-d4f8-691dd6a9340d"
      },
      "execution_count": 4,
      "outputs": [
        {
          "output_type": "stream",
          "name": "stdout",
          "text": [
            "Поздравляем, Вы справились!\n"
          ]
        }
      ]
    },
    {
      "cell_type": "markdown",
      "source": [
        "#### **Задача 2**\n",
        "\n",
        "Ваша задача написать функцию `get_session_duration`, которая принимает на вход сессии в формате, который вы определили для себя и подсчитывает сколько вообще в среднем длится сессия.\n",
        "\n",
        "Результат - число типа `float`, округленное до двух знаков после запятой, сохраните в переменную `res2`"
      ],
      "metadata": {
        "id": "QLNMvvhXoIdV"
      }
    },
    {
      "cell_type": "markdown",
      "source": [
        "**Решение**\n",
        "\n",
        "Напишите свое решение ниже"
      ],
      "metadata": {
        "id": "LThhpSINoMHN"
      }
    },
    {
      "cell_type": "code",
      "source": [
        "from datetime import datetime\n",
        "\n",
        "def get_session_duration(file):\n",
        "\n",
        "    with open(file, 'r') as f:\n",
        "        data = f.readlines()\n",
        "    data = data[1:]\n",
        "    users = []\n",
        "    for d in data:\n",
        "        a = d.find('\"[\"\"')\n",
        "        user_name = d[:a-1]\n",
        "        s1 = d.find('\"\", ')\n",
        "        s2 = d.find(', [[\"\"')\n",
        "        ses = int(d[s1+4:s2])\n",
        "        users.append(ses)\n",
        "\n",
        "    return round(sum(users) / len(users), 2)\n",
        "\n",
        "res2 = get_session_duration('sessions.csv')\n",
        "res2"
      ],
      "metadata": {
        "id": "9s8JBMlboJuf",
        "colab": {
          "base_uri": "https://localhost:8080/"
        },
        "outputId": "fbd60a69-c80b-48b0-c7d2-9fcfd8f34252"
      },
      "execution_count": 5,
      "outputs": [
        {
          "output_type": "execute_result",
          "data": {
            "text/plain": [
              "901.35"
            ]
          },
          "metadata": {},
          "execution_count": 5
        }
      ]
    },
    {
      "cell_type": "markdown",
      "source": [
        "✏️ ✏️ ✏️\n",
        "\n",
        "**Проверка**\n",
        "\n",
        "Чтобы проверить свое решение, запустите код в следующих ячейках"
      ],
      "metadata": {
        "id": "GN_PNZICsxRD"
      }
    },
    {
      "cell_type": "code",
      "source": [
        "try:\n",
        "    assert res2 == 901.35\n",
        "except AssertionError:\n",
        "    print('Ответы не совпадают')\n",
        "else:\n",
        "    print('Поздравляем, Вы справились!')"
      ],
      "metadata": {
        "id": "tys9eJRSqcEW",
        "colab": {
          "base_uri": "https://localhost:8080/"
        },
        "outputId": "98cb42cf-3ba5-4126-d064-ec2c797564d9"
      },
      "execution_count": 6,
      "outputs": [
        {
          "output_type": "stream",
          "name": "stdout",
          "text": [
            "Поздравляем, Вы справились!\n"
          ]
        }
      ]
    },
    {
      "cell_type": "markdown",
      "source": [
        "#### **Задача 3**\n",
        "\n",
        "Напишите функцию `get_daily_session_count`, которая принимает на вход сессии в формате, который вы определили для себя и подсчитывает cколько разных заходов в течение дня делает пользователь.\n",
        "\n",
        "Результат - число типа `float`, округленное до двух знаков после запятой, сохраните в переменную `res3`"
      ],
      "metadata": {
        "id": "AwB-HtPLtjyl"
      }
    },
    {
      "cell_type": "markdown",
      "source": [
        "**Решение**\n",
        "\n",
        "Напишите свое решение ниже"
      ],
      "metadata": {
        "id": "GOTB--hmt2xw"
      }
    },
    {
      "cell_type": "code",
      "source": [
        "from datetime import datetime\n",
        "\n",
        "def get_daily_session_count(file):\n",
        "    with open(file, 'r') as f:\n",
        "        data = f.readlines()\n",
        "    data = data[1:]\n",
        "    users = {}\n",
        "    for d in data:\n",
        "        a = d.find('\"[\"\"')\n",
        "        user_name = d[:a-1]\n",
        "        start_session = d[a+4:a+14]\n",
        "        key = (user_name, start_session)\n",
        "        if key not in users:\n",
        "            users[key] = 1\n",
        "        else:\n",
        "            users[key] += 1\n",
        "    summ = 0\n",
        "    for k, v in users.items():\n",
        "        summ += v\n",
        "    return round(summ / len(users), 2)\n",
        "\n",
        "res3 = get_daily_session_count('sessions.csv')\n",
        "res3"
      ],
      "metadata": {
        "id": "fz7nRb_ntKMv",
        "colab": {
          "base_uri": "https://localhost:8080/"
        },
        "outputId": "80924c73-e200-4217-a39f-f66e6767bfa3"
      },
      "execution_count": 7,
      "outputs": [
        {
          "output_type": "execute_result",
          "data": {
            "text/plain": [
              "1.11"
            ]
          },
          "metadata": {},
          "execution_count": 7
        }
      ]
    },
    {
      "cell_type": "markdown",
      "source": [
        "✏️ ✏️ ✏️\n",
        "\n",
        "**Проверка**\n",
        "\n",
        "Чтобы проверить свое решение, запустите код в следующих ячейках"
      ],
      "metadata": {
        "id": "0-7TiI06t8D0"
      }
    },
    {
      "cell_type": "code",
      "source": [
        "try:\n",
        "    assert res3 == 1.11\n",
        "except AssertionError:\n",
        "    print('Ответы не совпадают')\n",
        "else:\n",
        "    print('Поздравляем, Вы справились!')"
      ],
      "metadata": {
        "id": "eOzvKzYqt_UH",
        "colab": {
          "base_uri": "https://localhost:8080/"
        },
        "outputId": "c589a66f-742f-498a-bd79-837746ea87a3"
      },
      "execution_count": 8,
      "outputs": [
        {
          "output_type": "stream",
          "name": "stdout",
          "text": [
            "Поздравляем, Вы справились!\n"
          ]
        }
      ]
    },
    {
      "cell_type": "markdown",
      "source": [
        "#### **Задача 4**\n",
        "\n",
        "Напишите функцию `get_average_session_count`, которая принимает на вход сессии в формате, который вы определили для себя и подсчитывает сколько заходов вообще в среднем делает пользователь.\n",
        "\n",
        "Результат - число типа `float`, округленное до двух знаков после запятой, сохраните в переменную `res4`"
      ],
      "metadata": {
        "id": "R9huPDD3i9wz"
      }
    },
    {
      "cell_type": "markdown",
      "source": [
        "**Решение**\n",
        "\n",
        "Напишите свое решение ниже"
      ],
      "metadata": {
        "id": "1CWLkmQzjLNf"
      }
    },
    {
      "cell_type": "code",
      "source": [
        "from datetime import datetime\n",
        "\n",
        "def get_average_session_count(file):\n",
        "    with open(file, 'r') as f:\n",
        "        data = f.readlines()\n",
        "    data = data[1:]\n",
        "    users = {}\n",
        "    for d in data:\n",
        "        a = d.find('\"[\"\"')\n",
        "        user_name = d[:a-1]\n",
        "        start_session = d[a+4:a+14]\n",
        "        key = user_name\n",
        "        if key not in users:\n",
        "            users[key] = 1\n",
        "        else:\n",
        "            users[key] += 1\n",
        "    summ = 0\n",
        "    for k, v in users.items():\n",
        "        summ += v\n",
        "    return round(summ / len(users), 2)\n",
        "\n",
        "res4 = get_average_session_count('sessions.csv')\n",
        "res4"
      ],
      "metadata": {
        "id": "MaWSJGvEjJgq",
        "colab": {
          "base_uri": "https://localhost:8080/"
        },
        "outputId": "734ff578-78aa-4a20-866a-a3ddd97f8938"
      },
      "execution_count": 9,
      "outputs": [
        {
          "output_type": "execute_result",
          "data": {
            "text/plain": [
              "5.28"
            ]
          },
          "metadata": {},
          "execution_count": 9
        }
      ]
    },
    {
      "cell_type": "markdown",
      "source": [
        "✏️ ✏️ ✏️\n",
        "\n",
        "**Проверка**\n",
        "\n",
        "Чтобы проверить свое решение, запустите код в следующих ячейках"
      ],
      "metadata": {
        "id": "nLNPyebujSh8"
      }
    },
    {
      "cell_type": "code",
      "source": [
        "try:\n",
        "    assert res4 == 5.28\n",
        "except AssertionError:\n",
        "    print('Ответы не совпадают')\n",
        "else:\n",
        "    print('Поздравляем, Вы справились!')"
      ],
      "metadata": {
        "id": "oPvNP5sijS9v",
        "colab": {
          "base_uri": "https://localhost:8080/"
        },
        "outputId": "43ae51c3-a175-4801-a291-2ee8aadf8ce4"
      },
      "execution_count": 10,
      "outputs": [
        {
          "output_type": "stream",
          "name": "stdout",
          "text": [
            "Поздравляем, Вы справились!\n"
          ]
        }
      ]
    },
    {
      "cell_type": "code",
      "source": [],
      "metadata": {
        "id": "ExXew_jhja_m"
      },
      "execution_count": null,
      "outputs": []
    }
  ]
}