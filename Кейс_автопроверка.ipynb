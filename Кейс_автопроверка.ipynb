{
  "nbformat": 4,
  "nbformat_minor": 0,
  "metadata": {
    "colab": {
      "provenance": [],
      "include_colab_link": true
    },
    "kernelspec": {
      "name": "python3",
      "display_name": "Python 3"
    },
    "language_info": {
      "name": "python"
    }
  },
  "cells": [
    {
      "cell_type": "markdown",
      "metadata": {
        "id": "view-in-github",
        "colab_type": "text"
      },
      "source": [
        "<a href=\"https://colab.research.google.com/github/innamast/simulative_python_2/blob/main/%D0%9A%D0%B5%D0%B9%D1%81_%D0%B0%D0%B2%D1%82%D0%BE%D0%BF%D1%80%D0%BE%D0%B2%D0%B5%D1%80%D0%BA%D0%B0.ipynb\" target=\"_parent\"><img src=\"https://colab.research.google.com/assets/colab-badge.svg\" alt=\"Open In Colab\"/></a>"
      ]
    },
    {
      "cell_type": "markdown",
      "source": [
        "## **1 кейс**\n",
        "\n",
        "**Система автопроверки**"
      ],
      "metadata": {
        "id": "XUqCUBW5fUST"
      }
    },
    {
      "cell_type": "markdown",
      "source": [
        "**Важно**\n",
        "\n",
        "Перед началом решения выполните следующую ячейку, чтобы загрузить два файла - эталонный код и код пользователя."
      ],
      "metadata": {
        "id": "OcK9kF9mfZIt"
      }
    },
    {
      "cell_type": "code",
      "execution_count": 1,
      "metadata": {
        "id": "KtNBw8nOfPsB",
        "outputId": "e3db9d41-b005-4f55-f8a1-1908eaf7b7f3",
        "colab": {
          "base_uri": "https://localhost:8080/"
        }
      },
      "outputs": [
        {
          "output_type": "stream",
          "name": "stdout",
          "text": [
            "--2025-07-30 20:09:22--  https://gist.github.com/Vs8th/aafed81d81678c807a3ad3dbf93588b2/raw/user.py\n",
            "Resolving gist.github.com (gist.github.com)... 140.82.112.3\n",
            "Connecting to gist.github.com (gist.github.com)|140.82.112.3|:443... connected.\n",
            "HTTP request sent, awaiting response... 301 Moved Permanently\n",
            "Location: https://gist.githubusercontent.com/Vs8th/aafed81d81678c807a3ad3dbf93588b2/raw/user.py [following]\n",
            "--2025-07-30 20:09:22--  https://gist.githubusercontent.com/Vs8th/aafed81d81678c807a3ad3dbf93588b2/raw/user.py\n",
            "Resolving gist.githubusercontent.com (gist.githubusercontent.com)... 185.199.109.133, 185.199.111.133, 185.199.110.133, ...\n",
            "Connecting to gist.githubusercontent.com (gist.githubusercontent.com)|185.199.109.133|:443... connected.\n",
            "HTTP request sent, awaiting response... 200 OK\n",
            "Length: 106 [text/plain]\n",
            "Saving to: ‘user.py’\n",
            "\n",
            "user.py             100%[===================>]     106  --.-KB/s    in 0s      \n",
            "\n",
            "2025-07-30 20:09:22 (4.35 MB/s) - ‘user.py’ saved [106/106]\n",
            "\n",
            "--2025-07-30 20:09:22--  https://gist.github.com/Vs8th/95f7897019a4213c76e5b65234d31e30/raw/etalon.py\n",
            "Resolving gist.github.com (gist.github.com)... 140.82.112.3\n",
            "Connecting to gist.github.com (gist.github.com)|140.82.112.3|:443... connected.\n",
            "HTTP request sent, awaiting response... 301 Moved Permanently\n",
            "Location: https://gist.githubusercontent.com/Vs8th/95f7897019a4213c76e5b65234d31e30/raw/etalon.py [following]\n",
            "--2025-07-30 20:09:22--  https://gist.githubusercontent.com/Vs8th/95f7897019a4213c76e5b65234d31e30/raw/etalon.py\n",
            "Resolving gist.githubusercontent.com (gist.githubusercontent.com)... 185.199.109.133, 185.199.111.133, 185.199.110.133, ...\n",
            "Connecting to gist.githubusercontent.com (gist.githubusercontent.com)|185.199.109.133|:443... connected.\n",
            "HTTP request sent, awaiting response... 200 OK\n",
            "Length: 31 [text/plain]\n",
            "Saving to: ‘etalon.py’\n",
            "\n",
            "etalon.py           100%[===================>]      31  --.-KB/s    in 0s      \n",
            "\n",
            "2025-07-30 20:09:22 (1.34 MB/s) - ‘etalon.py’ saved [31/31]\n",
            "\n",
            "--2025-07-30 20:09:23--  https://gist.github.com/Vs8th/59f797dfbd33f9a4be1e5ed43bb42f4d/raw/res_cor.txt\n",
            "Resolving gist.github.com (gist.github.com)... 140.82.113.3\n",
            "Connecting to gist.github.com (gist.github.com)|140.82.113.3|:443... connected.\n",
            "HTTP request sent, awaiting response... 301 Moved Permanently\n",
            "Location: https://gist.githubusercontent.com/Vs8th/59f797dfbd33f9a4be1e5ed43bb42f4d/raw/res_cor.txt [following]\n",
            "--2025-07-30 20:09:23--  https://gist.githubusercontent.com/Vs8th/59f797dfbd33f9a4be1e5ed43bb42f4d/raw/res_cor.txt\n",
            "Resolving gist.githubusercontent.com (gist.githubusercontent.com)... 185.199.109.133, 185.199.111.133, 185.199.110.133, ...\n",
            "Connecting to gist.githubusercontent.com (gist.githubusercontent.com)|185.199.109.133|:443... connected.\n",
            "HTTP request sent, awaiting response... 200 OK\n",
            "Length: 355 [text/plain]\n",
            "Saving to: ‘res_cor.txt’\n",
            "\n",
            "res_cor.txt         100%[===================>]     355  --.-KB/s    in 0s      \n",
            "\n",
            "2025-07-30 20:09:23 (14.1 MB/s) - ‘res_cor.txt’ saved [355/355]\n",
            "\n"
          ]
        }
      ],
      "source": [
        "!wget https://gist.github.com/Vs8th/aafed81d81678c807a3ad3dbf93588b2/raw/user.py\n",
        "\n",
        "!wget https://gist.github.com/Vs8th/95f7897019a4213c76e5b65234d31e30/raw/etalon.py\n",
        "\n",
        "!wget https://gist.github.com/Vs8th/59f797dfbd33f9a4be1e5ed43bb42f4d/raw/res_cor.txt"
      ]
    },
    {
      "cell_type": "markdown",
      "source": [
        "Давайте сразу посмотрим с каким кодом мы имеем дело."
      ],
      "metadata": {
        "id": "JIwIK2E5fcyA"
      }
    },
    {
      "cell_type": "code",
      "source": [
        "with open('etalon.py', 'r') as f:\n",
        "    lines = f.readlines()\n",
        "\n",
        "lines"
      ],
      "metadata": {
        "id": "6f84pObFfbGE",
        "colab": {
          "base_uri": "https://localhost:8080/"
        },
        "outputId": "ebad95c2-2709-4e43-afd4-31020cb7be57"
      },
      "execution_count": 2,
      "outputs": [
        {
          "output_type": "execute_result",
          "data": {
            "text/plain": [
              "['def add(a, b):\\n', '    return a + b']"
            ]
          },
          "metadata": {},
          "execution_count": 2
        }
      ]
    },
    {
      "cell_type": "code",
      "source": [
        "with open('user.py', 'r') as f:\n",
        "    lines2 = f.readlines()\n",
        "\n",
        "lines2"
      ],
      "metadata": {
        "colab": {
          "base_uri": "https://localhost:8080/"
        },
        "id": "zmNFemr6OkB7",
        "outputId": "a3201ddf-2376-4fc1-e565-116d6dab7ee6"
      },
      "execution_count": 3,
      "outputs": [
        {
          "output_type": "execute_result",
          "data": {
            "text/plain": [
              "['def add_numbers(a, b):\\n',\n",
              " '    return a - b  # Ошибка: нужно сложить, а не вычесть']"
            ]
          },
          "metadata": {},
          "execution_count": 3
        }
      ]
    },
    {
      "cell_type": "markdown",
      "source": [
        "### **Решения**"
      ],
      "metadata": {
        "id": "CxmnD3GvffQ4"
      }
    },
    {
      "cell_type": "markdown",
      "source": [
        "#### **Задача 1**\n",
        "\n",
        "Задача не из легких, поэтому начнем по шагам. Для начала напишите функцию `run_tests`, которая прочтет эталонный код и код пользователя из `.py` файлов, выполнит их и сохранит результаты в файл `output.txt`."
      ],
      "metadata": {
        "id": "5bdLXu2ksLB7"
      }
    },
    {
      "cell_type": "markdown",
      "source": [
        "**Решение**\n",
        "\n",
        "Напишите свое решение ниже"
      ],
      "metadata": {
        "id": "qUL4LtIUnJge"
      }
    },
    {
      "cell_type": "code",
      "source": [
        "\n",
        "import importlib\n",
        "\n",
        "def run_tests(standard_code, user_code, test_cases, output_file):\n",
        "  with open(output_file, 'w') as of:\n",
        "    for a, b in test_cases:\n",
        "      correct_result = standard_code.add(a, b)\n",
        "      try:\n",
        "        user_result = user_code.add_numbers(a, b)\n",
        "        if user_result != correct_result:\n",
        "          of.write(f'Тест не пройден\\nОжидаемый результат: {correct_result}\\nРезультат пользователя: {user_result}\\n')\n",
        "        else:\n",
        "          of.write(f'Тест пройден\\n')\n",
        "      except AttributeError as err:\n",
        "        of.write(f'Ошибка при выполнении кода пользователя: {err}')\n",
        "        break\n",
        "\n",
        "# Чтение кодов из файлов\n",
        "standard_module = importlib.import_module('etalon')\n",
        "user_module = importlib.import_module('user')\n",
        "\n",
        "test_cases = [(1, 2), (3, 4), (5, 6)]\n",
        "output_file = 'output.txt'\n",
        "run_tests(standard_module, user_module, test_cases, output_file)\n"
      ],
      "metadata": {
        "id": "ymmsa-OaYfKH"
      },
      "execution_count": 4,
      "outputs": []
    },
    {
      "cell_type": "markdown",
      "source": [
        "✏️ ✏️ ✏️\n",
        "\n",
        "**Проверка**\n",
        "\n",
        "Чтобы проверить свое решение, запустите код в следующих ячейках"
      ],
      "metadata": {
        "id": "54Tvpn9OkDwV"
      }
    },
    {
      "cell_type": "code",
      "source": [
        "with open('output.txt', 'r') as file1:\n",
        "    res1 = file1.read()\n",
        "\n",
        "with open('res_cor.txt', 'r') as file2:\n",
        "    res2 = file2.read()\n",
        "\n",
        "try:\n",
        "    assert res1 == res2\n",
        "except AssertionError:\n",
        "    print('Ответы не совпадают')\n",
        "else:\n",
        "    print('Поздравляем, Вы справились!')"
      ],
      "metadata": {
        "id": "LkqzVw9skKEC",
        "colab": {
          "base_uri": "https://localhost:8080/"
        },
        "outputId": "cbbd9741-26e6-4467-a1e8-ec4b8ec71c46"
      },
      "execution_count": 5,
      "outputs": [
        {
          "output_type": "stream",
          "name": "stdout",
          "text": [
            "Поздравляем, Вы справились!\n"
          ]
        }
      ]
    },
    {
      "cell_type": "markdown",
      "source": [
        "#### **Задача 2**\n",
        "\n",
        "Теперь давайте двигаться дальше. Нужно добавить проверку на вредоносный код. Напишите отдельную функцию - `check_for_malicious_code`, которую мы будем вызывать перед проверкой кода."
      ],
      "metadata": {
        "id": "QLNMvvhXoIdV"
      }
    },
    {
      "cell_type": "markdown",
      "source": [
        "Перед написанием кода, выполните следующую ячейку, в ней скачивается новый код пользователя, который проверит работу функции `check_for_malicious_code`."
      ],
      "metadata": {
        "id": "YZ9QLF2YAhUG"
      }
    },
    {
      "cell_type": "code",
      "source": [
        "!wget https://gist.github.com/Vs8th/9f6a2c73c755cfcc088c7835ec4fb2c0/raw/user_malicious.py"
      ],
      "metadata": {
        "id": "KTn16q3wcTTc",
        "colab": {
          "base_uri": "https://localhost:8080/"
        },
        "outputId": "fd3665c8-02df-4083-caaf-d8fec6f7de9c"
      },
      "execution_count": 6,
      "outputs": [
        {
          "output_type": "stream",
          "name": "stdout",
          "text": [
            "--2025-07-30 20:38:18--  https://gist.github.com/Vs8th/9f6a2c73c755cfcc088c7835ec4fb2c0/raw/user_malicious.py\n",
            "Resolving gist.github.com (gist.github.com)... 140.82.114.4\n",
            "Connecting to gist.github.com (gist.github.com)|140.82.114.4|:443... connected.\n",
            "HTTP request sent, awaiting response... 301 Moved Permanently\n",
            "Location: https://gist.githubusercontent.com/Vs8th/9f6a2c73c755cfcc088c7835ec4fb2c0/raw/user_malicious.py [following]\n",
            "--2025-07-30 20:38:18--  https://gist.githubusercontent.com/Vs8th/9f6a2c73c755cfcc088c7835ec4fb2c0/raw/user_malicious.py\n",
            "Resolving gist.githubusercontent.com (gist.githubusercontent.com)... 185.199.110.133, 185.199.111.133, 185.199.109.133, ...\n",
            "Connecting to gist.githubusercontent.com (gist.githubusercontent.com)|185.199.110.133|:443... connected.\n",
            "HTTP request sent, awaiting response... 200 OK\n",
            "Length: 117 [text/plain]\n",
            "Saving to: ‘user_malicious.py’\n",
            "\n",
            "user_malicious.py   100%[===================>]     117  --.-KB/s    in 0s      \n",
            "\n",
            "2025-07-30 20:38:18 (2.66 MB/s) - ‘user_malicious.py’ saved [117/117]\n",
            "\n"
          ]
        }
      ]
    },
    {
      "cell_type": "markdown",
      "source": [
        "**Решение**\n",
        "\n",
        "Напишите свое решение ниже"
      ],
      "metadata": {
        "id": "LThhpSINoMHN"
      }
    },
    {
      "cell_type": "code",
      "source": [
        "import importlib, ast, inspect\n",
        "\n",
        "FORBIDDEN_NAMES = ['eval', 'exec']\n",
        "\n",
        "def check_for_malicious_code(code, output_file):\n",
        "  with open(output_file, 'w') as of:\n",
        "    tree = ast.parse(code)\n",
        "    try:\n",
        "      for node in ast.walk(tree):\n",
        "        # Проверка вызовов запрещенных функций\n",
        "        if isinstance(node, ast.Call):\n",
        "          # Проверяем, вызывается ли именно eval\n",
        "          if isinstance(node.func, ast.Name) and node.func.id in FORBIDDEN_NAMES:\n",
        "            raise ValueError(f'Код содержит вызов {node.func.id}()')\n",
        "\n",
        "        # Проверка запрещенных атрибутов\n",
        "        if isinstance(node, ast.Attribute) and node.attr in FORBIDDEN_NAMES:\n",
        "          raise ValueError(f'Код содержит запрещенный атрибут: {node.attr}')\n",
        "\n",
        "\n",
        "    except ValueError as err:\n",
        "      return err.args[0]\n",
        "\n",
        "    except SyntaxError as e:\n",
        "        of.write(f\"Код содержит синтаксическую ошибку: {type(e).__name__}\\n\")\n",
        "        return f\"Код содержит синтаксическую ошибку: {type(e).__name__}\"\n",
        "\n",
        "def run_tests(standard_code, user_code, test_cases, output_file):\n",
        "  with open(output_file, 'w') as of:\n",
        "    for a, b in test_cases:\n",
        "      correct_result = standard_code.add(a, b)\n",
        "      try:\n",
        "        user_result = user_code.add_numbers(a, b)\n",
        "        if user_result != correct_result:\n",
        "          of.write(f'Тест не пройден\\nОжидаемый результат: {correct_result}\\nРезультат пользователя: {user_result}\\n')\n",
        "        else:\n",
        "          of.write(f'Тест пройден\\n')\n",
        "      except AttributeError as err:\n",
        "        of.write(f'Ошибка при выполнении кода пользователя: {err}')\n",
        "        break\n",
        "\n",
        "# Чтение кодов из файлов\n",
        "standard_module = importlib.import_module('etalon')\n",
        "user_module = importlib.import_module('user_malicious')\n",
        "\n",
        "test_cases = [(1, 2), (3, 4), (5, 6)]\n",
        "output_file = 'output2.txt'\n",
        "# Проверка на вредоносный код\n",
        "malicious_code_message = check_for_malicious_code(inspect.getsource(user_module), output_file)\n",
        "if malicious_code_message:\n",
        "    with open(output_file, 'w') as f:\n",
        "        f.write(\"Ошибка при проверке модуля user_malicious:\\n\")\n",
        "        f.write(malicious_code_message)\n",
        "else:\n",
        "    run_tests(standard_module, user_module, test_cases, output_file)\n"
      ],
      "metadata": {
        "id": "9s8JBMlboJuf"
      },
      "execution_count": 7,
      "outputs": []
    },
    {
      "cell_type": "markdown",
      "source": [
        "✏️ ✏️ ✏️\n",
        "\n",
        "**Проверка**\n",
        "\n",
        "Чтобы проверить свое решение, запустите код в следующих ячейках"
      ],
      "metadata": {
        "id": "GN_PNZICsxRD"
      }
    },
    {
      "cell_type": "code",
      "source": [
        "# Здесь будет скачиваться файл с эталонным ответом\n",
        "\n",
        "!wget https://gist.github.com/Vs8th/5197125c5ef1e1b34b7d73adccdaf4bb/raw/cor_output_2.txt"
      ],
      "metadata": {
        "id": "tys9eJRSqcEW",
        "colab": {
          "base_uri": "https://localhost:8080/"
        },
        "outputId": "49da4a4f-b458-4c09-dcf6-94508561093e"
      },
      "execution_count": 8,
      "outputs": [
        {
          "output_type": "stream",
          "name": "stdout",
          "text": [
            "--2025-07-30 20:44:46--  https://gist.github.com/Vs8th/5197125c5ef1e1b34b7d73adccdaf4bb/raw/cor_output_2.txt\n",
            "Resolving gist.github.com (gist.github.com)... 140.82.114.3\n",
            "Connecting to gist.github.com (gist.github.com)|140.82.114.3|:443... connected.\n",
            "HTTP request sent, awaiting response... 301 Moved Permanently\n",
            "Location: https://gist.githubusercontent.com/Vs8th/5197125c5ef1e1b34b7d73adccdaf4bb/raw/cor_output_2.txt [following]\n",
            "--2025-07-30 20:44:47--  https://gist.githubusercontent.com/Vs8th/5197125c5ef1e1b34b7d73adccdaf4bb/raw/cor_output_2.txt\n",
            "Resolving gist.githubusercontent.com (gist.githubusercontent.com)... 185.199.109.133, 185.199.111.133, 185.199.110.133, ...\n",
            "Connecting to gist.githubusercontent.com (gist.githubusercontent.com)|185.199.109.133|:443... connected.\n",
            "HTTP request sent, awaiting response... 200 OK\n",
            "Length: 107 [text/plain]\n",
            "Saving to: ‘cor_output_2.txt’\n",
            "\n",
            "cor_output_2.txt    100%[===================>]     107  --.-KB/s    in 0s      \n",
            "\n",
            "2025-07-30 20:44:47 (2.33 MB/s) - ‘cor_output_2.txt’ saved [107/107]\n",
            "\n"
          ]
        }
      ]
    },
    {
      "cell_type": "code",
      "source": [
        "with open('output2.txt', 'r') as file1:\n",
        "    res1 = file1.read()\n",
        "\n",
        "with open('cor_output_2.txt', 'r') as file2:\n",
        "    res2 = file2.read()\n",
        "\n",
        "try:\n",
        "    assert res1== res2\n",
        "except AssertionError:\n",
        "    print('Ответы не совпадают')\n",
        "else:\n",
        "    print('Поздравляем, Вы справились!')"
      ],
      "metadata": {
        "colab": {
          "base_uri": "https://localhost:8080/"
        },
        "id": "1GWodeoioj0p",
        "outputId": "8bbdbb5a-80ff-49b5-c889-a01b790a0139"
      },
      "execution_count": 9,
      "outputs": [
        {
          "output_type": "stream",
          "name": "stdout",
          "text": [
            "Поздравляем, Вы справились!\n"
          ]
        }
      ]
    },
    {
      "cell_type": "markdown",
      "source": [
        "#### **Задача 3**\n",
        "\n",
        "Движемся дальше - последнее, что нам нужно проверить - время выполнения. Если время выполнения превышает 5 секунд, уведомите об этом пользователя и остановите выполнение проверки."
      ],
      "metadata": {
        "id": "AwB-HtPLtjyl"
      }
    },
    {
      "cell_type": "markdown",
      "source": [
        "Перед написанием кода, выполните следующую ячейку, в ней скачивается новый код пользователя, который проверит работу проверки на время выполнения."
      ],
      "metadata": {
        "id": "ibykgbg_BEJS"
      }
    },
    {
      "cell_type": "code",
      "source": [
        "!wget https://gist.github.com/Vs8th/4aba49489a8b0843ef85c4a1a93f923d/raw/user_inf.py"
      ],
      "metadata": {
        "id": "8N4EK36Erkic",
        "colab": {
          "base_uri": "https://localhost:8080/"
        },
        "outputId": "ba32cc4d-69da-4745-c85d-d96c9a2cbfa7"
      },
      "execution_count": 10,
      "outputs": [
        {
          "output_type": "stream",
          "name": "stdout",
          "text": [
            "--2025-07-30 20:45:03--  https://gist.github.com/Vs8th/4aba49489a8b0843ef85c4a1a93f923d/raw/user_inf.py\n",
            "Resolving gist.github.com (gist.github.com)... 140.82.114.3\n",
            "Connecting to gist.github.com (gist.github.com)|140.82.114.3|:443... connected.\n",
            "HTTP request sent, awaiting response... 301 Moved Permanently\n",
            "Location: https://gist.githubusercontent.com/Vs8th/4aba49489a8b0843ef85c4a1a93f923d/raw/user_inf.py [following]\n",
            "--2025-07-30 20:45:03--  https://gist.githubusercontent.com/Vs8th/4aba49489a8b0843ef85c4a1a93f923d/raw/user_inf.py\n",
            "Resolving gist.githubusercontent.com (gist.githubusercontent.com)... 185.199.108.133, 185.199.109.133, 185.199.110.133, ...\n",
            "Connecting to gist.githubusercontent.com (gist.githubusercontent.com)|185.199.108.133|:443... connected.\n",
            "HTTP request sent, awaiting response... 200 OK\n",
            "Length: 55 [text/plain]\n",
            "Saving to: ‘user_inf.py’\n",
            "\n",
            "user_inf.py         100%[===================>]      55  --.-KB/s    in 0s      \n",
            "\n",
            "2025-07-30 20:45:03 (2.09 MB/s) - ‘user_inf.py’ saved [55/55]\n",
            "\n"
          ]
        }
      ]
    },
    {
      "cell_type": "markdown",
      "source": [
        "**Решение**\n",
        "\n",
        "Напишите свое решение ниже"
      ],
      "metadata": {
        "id": "GOTB--hmt2xw"
      }
    },
    {
      "cell_type": "code",
      "source": [
        "import importlib, ast, inspect, time, multiprocessing\n",
        "\n",
        "FORBIDDEN_NAMES = ['eval']\n",
        "\n",
        "def check_for_malicious_code(code, output_file):\n",
        "  with open(output_file, 'w') as of:\n",
        "    tree = ast.parse(code)\n",
        "    try:\n",
        "      for node in ast.walk(tree):\n",
        "        # Проверка вызовов запрещенных функций\n",
        "        if isinstance(node, ast.Call):\n",
        "          # Проверяем, вызывается ли именно eval\n",
        "          if isinstance(node.func, ast.Name) and node.func.id in FORBIDDEN_NAMES:\n",
        "            raise ValueError(f'Код содержит вызов {node.func.id}()')\n",
        "\n",
        "        # Проверка запрещенных атрибутов\n",
        "        if isinstance(node, ast.Attribute) and node.attr in FORBIDDEN_NAMES:\n",
        "          raise ValueError(f'Код содержит запрещенный атрибут: {node.attr}')\n",
        "\n",
        "\n",
        "    except ValueError as err:\n",
        "      return err.args[0]\n",
        "\n",
        "    except SyntaxError as e:\n",
        "        of.write(f\"Код содержит синтаксическую ошибку: {type(e).__name__}\\n\")\n",
        "        return f\"Код содержит синтаксическую ошибку: {type(e).__name__}\"\n",
        "\n",
        "def run_tests(standard_code, user_code, test_cases, output_file):\n",
        "  with open(output_file, 'w') as of:\n",
        "    for a, b in test_cases:\n",
        "      correct_result = standard_code.add(a, b)\n",
        "      try:\n",
        "        user_result = user_code.add_numbers(a, b)\n",
        "        if user_result != correct_result:\n",
        "          of.write(f'Тест не пройден\\nОжидаемый результат: {correct_result}\\nРезультат пользователя: {user_result}\\n')\n",
        "        else:\n",
        "          of.write(f'Тест пройден\\n')\n",
        "      except AttributeError as err:\n",
        "        of.write(f'Ошибка при выполнении кода пользователя: {err}')\n",
        "        break\n",
        "\n",
        "\n",
        "# Чтение кодов из файлов\n",
        "standard_module = importlib.import_module('etalon')\n",
        "user_module = importlib.import_module('user_inf')\n",
        "\n",
        "test_cases = [(1, 2), (3, 4), (5, 6)]\n",
        "output_file = 'output3.txt'\n",
        "# Проверка на вредоносный код\n",
        "malicious_code_message = check_for_malicious_code(inspect.getsource(user_module), output_file)\n",
        "if malicious_code_message:\n",
        "    with open(output_file, 'w') as f:\n",
        "        f.write(\"Ошибка при проверке модуля user_malicious:\\n\")\n",
        "        f.write(malicious_code_message)\n",
        "else:\n",
        "  if __name__ == '__main__':\n",
        "    process = multiprocessing.Process(target=run_tests, args=(standard_module, user_module, test_cases, output_file))\n",
        "    process.start()\n",
        "    process.join(timeout=10)\n",
        "    with open('output3.txt', 'w') as f:\n",
        "      if process.is_alive():\n",
        "        process.terminate()\n",
        "        f.write('Предупреждение: время выполнения превышает 5 секунд.')\n",
        "      else:\n",
        "        f.write('Программа выполнена.')\n"
      ],
      "metadata": {
        "id": "fz7nRb_ntKMv"
      },
      "execution_count": 11,
      "outputs": []
    },
    {
      "cell_type": "markdown",
      "source": [
        "✏️ ✏️ ✏️\n",
        "\n",
        "**Проверка**\n",
        "\n",
        "Чтобы проверить свое решение, запустите код в следующих ячейках"
      ],
      "metadata": {
        "id": "0-7TiI06t8D0"
      }
    },
    {
      "cell_type": "code",
      "source": [
        "# Здесь будет скачиваться файл с эталонным ответом\n",
        "\n",
        "!wget https://gist.github.com/Vs8th/cfcafbd2cd46e8905555b02eae78406e/raw/cor_res_3.txt"
      ],
      "metadata": {
        "id": "eOzvKzYqt_UH",
        "colab": {
          "base_uri": "https://localhost:8080/"
        },
        "outputId": "11097b98-58ea-4e14-aa54-650b2c82c9d4"
      },
      "execution_count": 12,
      "outputs": [
        {
          "output_type": "stream",
          "name": "stdout",
          "text": [
            "--2025-07-30 20:47:55--  https://gist.github.com/Vs8th/cfcafbd2cd46e8905555b02eae78406e/raw/cor_res_3.txt\n",
            "Resolving gist.github.com (gist.github.com)... 140.82.112.4\n",
            "Connecting to gist.github.com (gist.github.com)|140.82.112.4|:443... connected.\n",
            "HTTP request sent, awaiting response... 301 Moved Permanently\n",
            "Location: https://gist.githubusercontent.com/Vs8th/cfcafbd2cd46e8905555b02eae78406e/raw/cor_res_3.txt [following]\n",
            "--2025-07-30 20:47:55--  https://gist.githubusercontent.com/Vs8th/cfcafbd2cd46e8905555b02eae78406e/raw/cor_res_3.txt\n",
            "Resolving gist.githubusercontent.com (gist.githubusercontent.com)... 185.199.109.133, 185.199.111.133, 185.199.108.133, ...\n",
            "Connecting to gist.githubusercontent.com (gist.githubusercontent.com)|185.199.109.133|:443... connected.\n",
            "HTTP request sent, awaiting response... 200 OK\n",
            "Length: 96 [text/plain]\n",
            "Saving to: ‘cor_res_3.txt’\n",
            "\n",
            "cor_res_3.txt       100%[===================>]      96  --.-KB/s    in 0s      \n",
            "\n",
            "2025-07-30 20:47:56 (2.37 MB/s) - ‘cor_res_3.txt’ saved [96/96]\n",
            "\n"
          ]
        }
      ]
    },
    {
      "cell_type": "code",
      "source": [
        "with open('output3.txt', 'r') as file1:\n",
        "    res1 = file1.read()\n",
        "\n",
        "with open('cor_res_3.txt', 'r') as file2:\n",
        "    res2 = file2.read()\n",
        "\n",
        "try:\n",
        "    assert res1 == res2\n",
        "except AssertionError:\n",
        "    print('Ответы не совпадают')\n",
        "else:\n",
        "    print('Поздравляем, Вы справились!')"
      ],
      "metadata": {
        "colab": {
          "base_uri": "https://localhost:8080/"
        },
        "id": "KzV-hUKcvxb2",
        "outputId": "6723a061-11ce-4ed2-cb44-4c5d0d719640"
      },
      "execution_count": 13,
      "outputs": [
        {
          "output_type": "stream",
          "name": "stdout",
          "text": [
            "Поздравляем, Вы справились!\n"
          ]
        }
      ]
    },
    {
      "cell_type": "code",
      "source": [],
      "metadata": {
        "id": "hOoDBgK7sqMK"
      },
      "execution_count": null,
      "outputs": []
    }
  ]
}